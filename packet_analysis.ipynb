{
  "cells": [
    {
      "cell_type": "code",
      "execution_count": 38,
      "metadata": {
        "id": "8TrBXp14pv54"
      },
      "outputs": [],
      "source": [
        "from scapy.all import * # Packet manipulation\n",
        "import pandas as pd # Pandas - Create and Manipulate DataFrames\n",
        "import numpy as np # Math Stuff (don't worry only used for one line :] )\n",
        "import binascii # Binary to Ascii \n",
        "import seaborn as sns\n",
        "import matplotlib.pyplot as plt\n",
        "\n",
        "sns.set(color_codes=True)\n",
        "%matplotlib inline"
      ]
    },
    {
      "cell_type": "markdown",
      "metadata": {
        "id": "Z-HBMA7ep50R"
      },
      "source": [
        "Captura de 100 paquetes"
      ]
    },
    {
      "cell_type": "code",
      "execution_count": 39,
      "metadata": {
        "colab": {
          "base_uri": "https://localhost:8080/"
        },
        "id": "CFGBX16-p0SZ",
        "outputId": "3b196156-2772-41e5-e478-b37e6c5cd99f"
      },
      "outputs": [],
      "source": [
        "num_of_packets_to_sniff = 100\n",
        "pcap = sniff(count=num_of_packets_to_sniff)\n"
      ]
    },
    {
      "cell_type": "code",
      "execution_count": 40,
      "metadata": {},
      "outputs": [],
      "source": [
        "analisis_paquetes = rdpcap(\"datasets/analisis_paquetes.pcap\")\n"
      ]
    },
    {
      "cell_type": "code",
      "execution_count": 41,
      "metadata": {},
      "outputs": [],
      "source": [
        "# add .pcap to sniffed packets\n",
        "for pkt in analisis_paquetes:\n",
        "    pcap.append(pkt)"
      ]
    },
    {
      "cell_type": "markdown",
      "metadata": {
        "id": "S8KkL6uTqwD2"
      },
      "source": [
        "TCP"
      ]
    },
    {
      "cell_type": "code",
      "execution_count": 42,
      "metadata": {
        "colab": {
          "base_uri": "https://localhost:8080/"
        },
        "id": "VEWhUmrsqUFC",
        "outputId": "c965a5c9-51b8-476f-fec8-c4de001f74c1"
      },
      "outputs": [
        {
          "name": "stdout",
          "output_type": "stream",
          "text": [
            "\n"
          ]
        }
      ],
      "source": [
        "\"\"\"\n",
        "0                   1                   2                   3\n",
        "0 1 2 3 4 5 6 7 8 9 0 1 2 3 4 5 6 7 8 9 0 1 2 3 4 5 6 7 8 9 0 1\n",
        "+-+-+-+-+-+-+-+-+-+-+-+-+-+-+-+-+-+-+-+-+-+-+-+-+-+-+-+-+-+-+-+-+\n",
        "|          Source Port          |       Destination Port        |\n",
        "+-+-+-+-+-+-+-+-+-+-+-+-+-+-+-+-+-+-+-+-+-+-+-+-+-+-+-+-+-+-+-+-+\n",
        "|                        Sequence Number                        |\n",
        "+-+-+-+-+-+-+-+-+-+-+-+-+-+-+-+-+-+-+-+-+-+-+-+-+-+-+-+-+-+-+-+-+\n",
        "|                    Acknowledgment Number                      |\n",
        "+-+-+-+-+-+-+-+-+-+-+-+-+-+-+-+-+-+-+-+-+-+-+-+-+-+-+-+-+-+-+-+-+\n",
        "|  Data |           |U|A|P|R|S|F|                               |\n",
        "| Offset| Reserved  |R|C|S|S|Y|I|            Window             |\n",
        "|       |           |G|K|H|T|N|N|                               |\n",
        "+-+-+-+-+-+-+-+-+-+-+-+-+-+-+-+-+-+-+-+-+-+-+-+-+-+-+-+-+-+-+-+-+\n",
        "|           Checksum            |         Urgent Pointer        |\n",
        "+-+-+-+-+-+-+-+-+-+-+-+-+-+-+-+-+-+-+-+-+-+-+-+-+-+-+-+-+-+-+-+-+\n",
        "|                    Options                    |    Padding    |\n",
        "+-+-+-+-+-+-+-+-+-+-+-+-+-+-+-+-+-+-+-+-+-+-+-+-+-+-+-+-+-+-+-+-+\n",
        "|                             data                              |\n",
        "+-+-+-+-+-+-+-+-+-+-+-+-+-+-+-+-+-+-+-+-+-+-+-+-+-+-+-+-+-+-+-+-+\n",
        "02 04 05 a0 01 03 03 05 01 01 08 0a 1d 74 65 c5 00 00 00 00 04 02 00 00\n",
        "\"\"\"\n",
        "\n",
        "print()"
      ]
    },
    {
      "cell_type": "markdown",
      "metadata": {
        "id": "tcOQYhxiqy7L"
      },
      "source": [
        "Exploración"
      ]
    },
    {
      "cell_type": "code",
      "execution_count": 43,
      "metadata": {
        "colab": {
          "base_uri": "https://localhost:8080/"
        },
        "id": "6V_p1aruq4d4",
        "outputId": "f03f1417-7015-469d-b69c-783411437201"
      },
      "outputs": [
        {
          "name": "stdout",
          "output_type": "stream",
          "text": [
            "Informacion del frame:\n",
            "Ether / ARP who has 192.168.128.1 says 192.168.144.175\n",
            "Informacion del paquete:\n",
            "ARP who has 192.168.128.1 says 192.168.144.175\n",
            "Informacion del segmento:\n",
            "\n",
            "Data:\n",
            "\n",
            "###[ Ethernet ]### \n",
            "  dst       = ff:ff:ff:ff:ff:ff\n",
            "  src       = 78:4f:43:69:74:9c\n",
            "  type      = ARP\n",
            "###[ ARP ]### \n",
            "     hwtype    = 0x1\n",
            "     ptype     = IPv4\n",
            "     hwlen     = 6\n",
            "     plen      = 4\n",
            "     op        = who-has\n",
            "     hwsrc     = 78:4f:43:69:74:9c\n",
            "     psrc      = 192.168.144.175\n",
            "     hwdst     = 00:00:00:00:00:00\n",
            "     pdst      = 192.168.128.1\n",
            "\n"
          ]
        }
      ],
      "source": [
        "#Recordemos que en los modelos de red, las capas inferiores encapsulan la información de las capas superiores\n",
        "#Frames en paquetes, paquetes en segmentos (Ethernet, IP), modelo TCP/IP\n",
        "\n",
        "ethernet_frame = pcap[0]\n",
        "ip_packet = ethernet_frame.payload\n",
        "segment = ip_packet.payload\n",
        "data = segment.payload #recupera la informacion de la capa 4\n",
        "\n",
        "print(\"Informacion del frame:\")\n",
        "print(ethernet_frame.summary())\n",
        "\n",
        "print(\"Informacion del paquete:\")\n",
        "print(ip_packet.summary())\n",
        "\n",
        "print(\"Informacion del segmento:\")\n",
        "print(segment.summary())\n",
        "\n",
        "print(\"Data:\")\n",
        "print(data.summary())\n",
        "\n",
        "ethernet_frame.show()\n",
        "data.show()"
      ]
    },
    {
      "cell_type": "markdown",
      "metadata": {
        "id": "B7VfYOxJsq1Y"
      },
      "source": [
        "Tipos de datos en Scapy"
      ]
    },
    {
      "cell_type": "code",
      "execution_count": 44,
      "metadata": {
        "colab": {
          "base_uri": "https://localhost:8080/"
        },
        "id": "ll1ixX5KspSd",
        "outputId": "9d46481b-4b37-4c66-b69a-7e28921017f0"
      },
      "outputs": [
        {
          "name": "stdout",
          "output_type": "stream",
          "text": [
            "<class 'scapy.layers.l2.Ether'>\n",
            "<class 'scapy.layers.l2.ARP'>\n",
            "<class 'scapy.packet.NoPayload'>\n",
            "Ethernet <Ether from Sniffed: TCP:84 UDP:76 ICMP:0 Other:2>\n",
            "IP <ARP from Sniffed: TCP:0 UDP:0 ICMP:0 Other:2>\n",
            "TCP <NoPayload from Sniffed: TCP:0 UDP:0 ICMP:0 Other:0>\n",
            "UDP <UDP from Sniffed: TCP:0 UDP:76 ICMP:0 Other:0>\n"
          ]
        }
      ],
      "source": [
        "print(type(ethernet_frame))\n",
        "print(type(ip_packet))\n",
        "print(type(segment))\n",
        "\n",
        "# Packets can be filtered on layers ie) ethernet_frame[scapy.layers.l2.Ether]\n",
        "ethernet_type = type(ethernet_frame)\n",
        "ip_type = type(ip_packet)\n",
        "tcp_type = type(segment)\n",
        "print(\"Ethernet\",pcap[ethernet_type])\n",
        "print(\"IP\", pcap[ip_type])\n",
        "print(\"TCP\", pcap[tcp_type])\n",
        "\n",
        "# Scapy provides this via import statements\n",
        "from scapy.layers.l2 import Ether\n",
        "from scapy.layers.inet import IP\n",
        "from scapy.layers.inet import TCP, UDP\n",
        "\n",
        "print(\"UDP\", pcap[UDP])"
      ]
    },
    {
      "cell_type": "markdown",
      "metadata": {
        "id": "ioVnNkvRthYL"
      },
      "source": [
        "Conversion de PCAP a DF"
      ]
    },
    {
      "cell_type": "code",
      "execution_count": 45,
      "metadata": {
        "colab": {
          "base_uri": "https://localhost:8080/"
        },
        "id": "H50zKfyhtkck",
        "outputId": "135dd4af-36b9-4e0a-df68-6e0f8a2dc9c9"
      },
      "outputs": [
        {
          "name": "stdout",
          "output_type": "stream",
          "text": [
            "Index(['version', 'ihl', 'tos', 'len', 'id', 'flags', 'frag', 'ttl', 'proto',\n",
            "       'chksum', 'src', 'dst', 'options', 'time', 'sport', 'dport', 'seq',\n",
            "       'ack', 'dataofs', 'reserved', 'flags', 'window', 'chksum', 'urgptr',\n",
            "       'options', 'payload', 'payload_raw', 'payload_hex'],\n",
            "      dtype='object')\n"
          ]
        },
        {
          "data": {
            "text/html": [
              "<div>\n",
              "<style scoped>\n",
              "    .dataframe tbody tr th:only-of-type {\n",
              "        vertical-align: middle;\n",
              "    }\n",
              "\n",
              "    .dataframe tbody tr th {\n",
              "        vertical-align: top;\n",
              "    }\n",
              "\n",
              "    .dataframe thead th {\n",
              "        text-align: right;\n",
              "    }\n",
              "</style>\n",
              "<table border=\"1\" class=\"dataframe\">\n",
              "  <thead>\n",
              "    <tr style=\"text-align: right;\">\n",
              "      <th></th>\n",
              "      <th>version</th>\n",
              "      <th>ihl</th>\n",
              "      <th>tos</th>\n",
              "      <th>len</th>\n",
              "      <th>id</th>\n",
              "      <th>flags</th>\n",
              "      <th>frag</th>\n",
              "      <th>ttl</th>\n",
              "      <th>proto</th>\n",
              "      <th>chksum</th>\n",
              "      <th>...</th>\n",
              "      <th>dataofs</th>\n",
              "      <th>reserved</th>\n",
              "      <th>flags</th>\n",
              "      <th>window</th>\n",
              "      <th>chksum</th>\n",
              "      <th>urgptr</th>\n",
              "      <th>options</th>\n",
              "      <th>payload</th>\n",
              "      <th>payload_raw</th>\n",
              "      <th>payload_hex</th>\n",
              "    </tr>\n",
              "  </thead>\n",
              "  <tbody>\n",
              "    <tr>\n",
              "      <th>0</th>\n",
              "      <td>4</td>\n",
              "      <td>5</td>\n",
              "      <td>0</td>\n",
              "      <td>40</td>\n",
              "      <td>649</td>\n",
              "      <td></td>\n",
              "      <td>0</td>\n",
              "      <td>64</td>\n",
              "      <td>6</td>\n",
              "      <td>8988</td>\n",
              "      <td>...</td>\n",
              "      <td>5</td>\n",
              "      <td>0</td>\n",
              "      <td>A</td>\n",
              "      <td>2048</td>\n",
              "      <td>62100</td>\n",
              "      <td>0</td>\n",
              "      <td>None</td>\n",
              "      <td>0</td>\n",
              "      <td>b''</td>\n",
              "      <td>b''</td>\n",
              "    </tr>\n",
              "    <tr>\n",
              "      <th>1</th>\n",
              "      <td>4</td>\n",
              "      <td>5</td>\n",
              "      <td>72</td>\n",
              "      <td>52</td>\n",
              "      <td>44670</td>\n",
              "      <td></td>\n",
              "      <td>0</td>\n",
              "      <td>123</td>\n",
              "      <td>6</td>\n",
              "      <td>15314</td>\n",
              "      <td>...</td>\n",
              "      <td>8</td>\n",
              "      <td>0</td>\n",
              "      <td>A</td>\n",
              "      <td>326</td>\n",
              "      <td>56220</td>\n",
              "      <td>0</td>\n",
              "      <td>3</td>\n",
              "      <td>0</td>\n",
              "      <td>b''</td>\n",
              "      <td>b''</td>\n",
              "    </tr>\n",
              "    <tr>\n",
              "      <th>2</th>\n",
              "      <td>4</td>\n",
              "      <td>5</td>\n",
              "      <td>0</td>\n",
              "      <td>91</td>\n",
              "      <td>632</td>\n",
              "      <td></td>\n",
              "      <td>0</td>\n",
              "      <td>64</td>\n",
              "      <td>17</td>\n",
              "      <td>23890</td>\n",
              "      <td>...</td>\n",
              "      <td>None</td>\n",
              "      <td>None</td>\n",
              "      <td>None</td>\n",
              "      <td>None</td>\n",
              "      <td>52714</td>\n",
              "      <td>None</td>\n",
              "      <td>None</td>\n",
              "      <td>63</td>\n",
              "      <td>b'\\xef\\xea\\x01\\x00\\x00\\x01\\x00\\x00\\x00\\x00\\x00...</td>\n",
              "      <td>b'efea01000001000000000000106f6e656473636f6c70...</td>\n",
              "    </tr>\n",
              "    <tr>\n",
              "      <th>3</th>\n",
              "      <td>4</td>\n",
              "      <td>5</td>\n",
              "      <td>0</td>\n",
              "      <td>107</td>\n",
              "      <td>5246</td>\n",
              "      <td></td>\n",
              "      <td>0</td>\n",
              "      <td>127</td>\n",
              "      <td>17</td>\n",
              "      <td>3132</td>\n",
              "      <td>...</td>\n",
              "      <td>None</td>\n",
              "      <td>None</td>\n",
              "      <td>None</td>\n",
              "      <td>None</td>\n",
              "      <td>15047</td>\n",
              "      <td>None</td>\n",
              "      <td>None</td>\n",
              "      <td>79</td>\n",
              "      <td>b'\\xef\\xea\\x81\\x80\\x00\\x01\\x00\\x01\\x00\\x00\\x00...</td>\n",
              "      <td>b'efea81800001000100000000106f6e656473636f6c70...</td>\n",
              "    </tr>\n",
              "    <tr>\n",
              "      <th>4</th>\n",
              "      <td>4</td>\n",
              "      <td>5</td>\n",
              "      <td>0</td>\n",
              "      <td>64</td>\n",
              "      <td>0</td>\n",
              "      <td>DF</td>\n",
              "      <td>0</td>\n",
              "      <td>64</td>\n",
              "      <td>6</td>\n",
              "      <td>10091</td>\n",
              "      <td>...</td>\n",
              "      <td>11</td>\n",
              "      <td>0</td>\n",
              "      <td>SEC</td>\n",
              "      <td>65535</td>\n",
              "      <td>62377</td>\n",
              "      <td>0</td>\n",
              "      <td>8</td>\n",
              "      <td>0</td>\n",
              "      <td>b''</td>\n",
              "      <td>b''</td>\n",
              "    </tr>\n",
              "  </tbody>\n",
              "</table>\n",
              "<p>5 rows × 28 columns</p>\n",
              "</div>"
            ],
            "text/plain": [
              "  version ihl tos  len     id flags frag  ttl proto chksum  ... dataofs  \\\n",
              "0       4   5   0   40    649          0   64     6   8988  ...       5   \n",
              "1       4   5  72   52  44670          0  123     6  15314  ...       8   \n",
              "2       4   5   0   91    632          0   64    17  23890  ...    None   \n",
              "3       4   5   0  107   5246          0  127    17   3132  ...    None   \n",
              "4       4   5   0   64      0    DF    0   64     6  10091  ...      11   \n",
              "\n",
              "  reserved flags window chksum urgptr options payload  \\\n",
              "0        0     A   2048  62100      0    None       0   \n",
              "1        0     A    326  56220      0       3       0   \n",
              "2     None  None   None  52714   None    None      63   \n",
              "3     None  None   None  15047   None    None      79   \n",
              "4        0   SEC  65535  62377      0       8       0   \n",
              "\n",
              "                                         payload_raw  \\\n",
              "0                                                b''   \n",
              "1                                                b''   \n",
              "2  b'\\xef\\xea\\x01\\x00\\x00\\x01\\x00\\x00\\x00\\x00\\x00...   \n",
              "3  b'\\xef\\xea\\x81\\x80\\x00\\x01\\x00\\x01\\x00\\x00\\x00...   \n",
              "4                                                b''   \n",
              "\n",
              "                                         payload_hex  \n",
              "0                                                b''  \n",
              "1                                                b''  \n",
              "2  b'efea01000001000000000000106f6e656473636f6c70...  \n",
              "3  b'efea81800001000100000000106f6e656473636f6c70...  \n",
              "4                                                b''  \n",
              "\n",
              "[5 rows x 28 columns]"
            ]
          },
          "execution_count": 45,
          "metadata": {},
          "output_type": "execute_result"
        }
      ],
      "source": [
        "# Obtenemos los campos de IP/TCP/UDP que seran las columnas de nuestro DF\n",
        "ip_fields = [field.name for field in IP().fields_desc]\n",
        "tcp_fields = [field.name for field in TCP().fields_desc]\n",
        "udp_fields = [field.name for field in UDP().fields_desc]\n",
        "\n",
        "#Concatenamos todos los campos\n",
        "dataframe_fields = ip_fields + ['time'] + tcp_fields + ['payload','payload_raw','payload_hex']\n",
        "\n",
        "# Creamos un DF en blanco con los campos como columnas\n",
        "df = pd.DataFrame(columns=dataframe_fields)\n",
        "for packet in pcap[IP]:\n",
        "    # Obtenemos los valores de los campos de cada fila\n",
        "    field_values = []\n",
        "    # A;adimos todos los valores de los campos de IP al df\n",
        "    for field in ip_fields:\n",
        "        if field == 'options':\n",
        "            # Obtenemos el numero de opciones del IP Header\n",
        "            field_values.append(len(packet[IP].fields[field]))\n",
        "        else:\n",
        "            field_values.append(packet[IP].fields[field])\n",
        "    \n",
        "    field_values.append(packet.time)\n",
        "    \n",
        "    layer_type = type(packet[IP].payload)\n",
        "    for field in tcp_fields:\n",
        "        try:\n",
        "            if field == 'options':\n",
        "                field_values.append(len(packet[layer_type].fields[field]))\n",
        "            else:\n",
        "                field_values.append(packet[layer_type].fields[field])\n",
        "        except:\n",
        "            field_values.append(None)\n",
        "    \n",
        "    # Agregamos el payload\n",
        "    field_values.append(len(packet[layer_type].payload))\n",
        "    field_values.append(packet[layer_type].payload.original)\n",
        "    field_values.append(binascii.hexlify(packet[layer_type].payload.original))\n",
        "    # Agregamos la fila al df\n",
        "    df_append = pd.DataFrame([field_values], columns=dataframe_fields)\n",
        "    df = pd.concat([df, df_append], axis=0)\n",
        "\n",
        "# Reset Index\n",
        "df = df.reset_index()\n",
        "# Drop old index column\n",
        "df = df.drop(columns=\"index\")\n",
        "\n",
        "print(df.columns)\n",
        "df.head(5)"
      ]
    },
    {
      "cell_type": "code",
      "execution_count": 46,
      "metadata": {
        "colab": {
          "base_uri": "https://localhost:8080/",
          "height": 363
        },
        "id": "LqqOTjHmzcpJ",
        "outputId": "f424cc4c-df1b-4820-a285-4ca749ed1e0e"
      },
      "outputs": [
        {
          "data": {
            "text/html": [
              "<div>\n",
              "<style scoped>\n",
              "    .dataframe tbody tr th:only-of-type {\n",
              "        vertical-align: middle;\n",
              "    }\n",
              "\n",
              "    .dataframe tbody tr th {\n",
              "        vertical-align: top;\n",
              "    }\n",
              "\n",
              "    .dataframe thead th {\n",
              "        text-align: right;\n",
              "    }\n",
              "</style>\n",
              "<table border=\"1\" class=\"dataframe\">\n",
              "  <thead>\n",
              "    <tr style=\"text-align: right;\">\n",
              "      <th></th>\n",
              "      <th>src</th>\n",
              "      <th>dst</th>\n",
              "      <th>sport</th>\n",
              "      <th>dport</th>\n",
              "    </tr>\n",
              "  </thead>\n",
              "  <tbody>\n",
              "    <tr>\n",
              "      <th>0</th>\n",
              "      <td>192.168.144.175</td>\n",
              "      <td>35.186.224.25</td>\n",
              "      <td>49923</td>\n",
              "      <td>443</td>\n",
              "    </tr>\n",
              "    <tr>\n",
              "      <th>1</th>\n",
              "      <td>35.186.224.25</td>\n",
              "      <td>192.168.144.175</td>\n",
              "      <td>443</td>\n",
              "      <td>49923</td>\n",
              "    </tr>\n",
              "    <tr>\n",
              "      <th>2</th>\n",
              "      <td>192.168.144.175</td>\n",
              "      <td>192.168.8.200</td>\n",
              "      <td>50647</td>\n",
              "      <td>53</td>\n",
              "    </tr>\n",
              "    <tr>\n",
              "      <th>3</th>\n",
              "      <td>192.168.8.200</td>\n",
              "      <td>192.168.144.175</td>\n",
              "      <td>53</td>\n",
              "      <td>50647</td>\n",
              "    </tr>\n",
              "    <tr>\n",
              "      <th>4</th>\n",
              "      <td>192.168.144.175</td>\n",
              "      <td>52.182.141.63</td>\n",
              "      <td>49941</td>\n",
              "      <td>443</td>\n",
              "    </tr>\n",
              "    <tr>\n",
              "      <th>...</th>\n",
              "      <td>...</td>\n",
              "      <td>...</td>\n",
              "      <td>...</td>\n",
              "      <td>...</td>\n",
              "    </tr>\n",
              "    <tr>\n",
              "      <th>154</th>\n",
              "      <td>84.54.22.33</td>\n",
              "      <td>10.1.10.53</td>\n",
              "      <td>53</td>\n",
              "      <td>53</td>\n",
              "    </tr>\n",
              "    <tr>\n",
              "      <th>155</th>\n",
              "      <td>10.1.10.53</td>\n",
              "      <td>84.54.22.33</td>\n",
              "      <td>53</td>\n",
              "      <td>53</td>\n",
              "    </tr>\n",
              "    <tr>\n",
              "      <th>156</th>\n",
              "      <td>84.54.22.33</td>\n",
              "      <td>10.1.10.53</td>\n",
              "      <td>53</td>\n",
              "      <td>53</td>\n",
              "    </tr>\n",
              "    <tr>\n",
              "      <th>157</th>\n",
              "      <td>10.1.10.53</td>\n",
              "      <td>84.54.22.33</td>\n",
              "      <td>53</td>\n",
              "      <td>53</td>\n",
              "    </tr>\n",
              "    <tr>\n",
              "      <th>158</th>\n",
              "      <td>84.54.22.33</td>\n",
              "      <td>10.1.10.53</td>\n",
              "      <td>53</td>\n",
              "      <td>53</td>\n",
              "    </tr>\n",
              "  </tbody>\n",
              "</table>\n",
              "<p>159 rows × 4 columns</p>\n",
              "</div>"
            ],
            "text/plain": [
              "                 src              dst  sport  dport\n",
              "0    192.168.144.175    35.186.224.25  49923    443\n",
              "1      35.186.224.25  192.168.144.175    443  49923\n",
              "2    192.168.144.175    192.168.8.200  50647     53\n",
              "3      192.168.8.200  192.168.144.175     53  50647\n",
              "4    192.168.144.175    52.182.141.63  49941    443\n",
              "..               ...              ...    ...    ...\n",
              "154      84.54.22.33       10.1.10.53     53     53\n",
              "155       10.1.10.53      84.54.22.33     53     53\n",
              "156      84.54.22.33       10.1.10.53     53     53\n",
              "157       10.1.10.53      84.54.22.33     53     53\n",
              "158      84.54.22.33       10.1.10.53     53     53\n",
              "\n",
              "[159 rows x 4 columns]"
            ]
          },
          "execution_count": 46,
          "metadata": {},
          "output_type": "execute_result"
        }
      ],
      "source": [
        "# Return Src Address, Dst Address, Src Port, Dst Port\n",
        "df[['src','dst','sport','dport']]"
      ]
    },
    {
      "cell_type": "markdown",
      "metadata": {},
      "source": [
        "Muestre cual es la IP origen que más aparece"
      ]
    },
    {
      "cell_type": "code",
      "execution_count": 47,
      "metadata": {
        "colab": {
          "base_uri": "https://localhost:8080/"
        },
        "id": "rG6Pfp_VzfUe",
        "outputId": "709af016-65bc-496b-8fa1-334a46830c12"
      },
      "outputs": [
        {
          "name": "stdout",
          "output_type": "stream",
          "text": [
            "# Top Source Address\n",
            "count                 159\n",
            "unique                 17\n",
            "top       192.168.144.175\n",
            "freq                   50\n",
            "Name: src, dtype: object \n",
            "\n",
            "\n"
          ]
        }
      ],
      "source": [
        "#Calcular estadisticas\n",
        "print(\"# Top Source Address\")\n",
        "print(df['src'].describe(),'\\n\\n')"
      ]
    },
    {
      "cell_type": "markdown",
      "metadata": {},
      "source": [
        "Muestre cual es la IP destino que más aparece"
      ]
    },
    {
      "cell_type": "code",
      "execution_count": 49,
      "metadata": {},
      "outputs": [
        {
          "name": "stdout",
          "output_type": "stream",
          "text": [
            "# Top Destination Address\n",
            "count                 159\n",
            "unique                 20\n",
            "top       192.168.144.175\n",
            "freq                   43\n",
            "Name: dst, dtype: object \n",
            "\n",
            "\n"
          ]
        }
      ],
      "source": [
        "print(\"# Top Destination Address\")\n",
        "print(df['dst'].describe(),'\\n\\n')"
      ]
    },
    {
      "cell_type": "code",
      "execution_count": 67,
      "metadata": {
        "colab": {
          "base_uri": "https://localhost:8080/"
        },
        "id": "e1kc8Mzf_uZl",
        "outputId": "9b0400e0-be07-4951-dcae-23531167651e"
      },
      "outputs": [
        {
          "name": "stdout",
          "output_type": "stream",
          "text": [
            "¿Quien es la IP de origen mas frecuente?\n",
            "192.168.144.175 \n",
            "\n",
            "A que IPs les habla la IP mas frecuente:\n",
            "52.182.141.63      13\n",
            "172.217.15.202     12\n",
            "239.255.255.250     5\n",
            "142.250.217.163     4\n",
            "35.186.224.25       3\n",
            "146.75.34.248       2\n",
            "35.186.224.42       2\n",
            "35.186.224.47       2\n",
            "192.168.8.200       1\n",
            "172.217.165.195     1\n",
            "104.154.127.126     1\n",
            "34.98.74.57         1\n",
            "151.101.6.248       1\n",
            "224.0.0.251         1\n",
            "192.168.191.255     1\n",
            "Name: dst, dtype: int64\n"
          ]
        }
      ],
      "source": [
        "print(\"¿Quien es la IP de origen mas frecuente?\")\n",
        "frequent_address = df['src'].describe()['top']\n",
        "print(frequent_address, '\\n')\n",
        "\n",
        "\n",
        "print(\"A que IPs les habla la IP mas frecuente:\")\n",
        "print(df[df['src'] == frequent_address]['dst'].value_counts())"
      ]
    },
    {
      "cell_type": "code",
      "execution_count": 63,
      "metadata": {},
      "outputs": [
        {
          "name": "stdout",
          "output_type": "stream",
          "text": [
            "A que puertos destino les habla la IP mas frecuente:\n",
            "443      41\n",
            "1900      5\n",
            "53        1\n",
            "4070      1\n",
            "5353      1\n",
            "57621     1\n",
            "Name: dport, dtype: int64\n"
          ]
        }
      ],
      "source": [
        "print(\"A que puertos destino les habla la IP mas frecuente:\")\n",
        "print(df[df['src'] == frequent_address]['dport'].value_counts())"
      ]
    },
    {
      "cell_type": "code",
      "execution_count": 64,
      "metadata": {},
      "outputs": [
        {
          "name": "stdout",
          "output_type": "stream",
          "text": [
            "A que puertos de origen les habla la IP mas frecuente:\n",
            "49941    13\n",
            "60989     7\n",
            "60988     5\n",
            "55910     4\n",
            "60970     4\n",
            "49919     2\n",
            "49922     2\n",
            "49923     1\n",
            "49928     1\n",
            "57621     1\n",
            "5353      1\n",
            "49917     1\n",
            "49927     1\n",
            "49934     1\n",
            "50647     1\n",
            "49913     1\n",
            "49916     1\n",
            "49929     1\n",
            "49918     1\n",
            "64214     1\n",
            "Name: sport, dtype: int64\n"
          ]
        }
      ],
      "source": [
        "\n",
        "print(\"A que puertos de origen les habla la IP mas frecuente:\")\n",
        "print(df[df['src'] == frequent_address]['sport'].value_counts())"
      ]
    },
    {
      "cell_type": "markdown",
      "metadata": {},
      "source": [
        "¿Para que se utiliza el puerto que más aparece en el inciso d y e?\n",
        "<br> <br>\n",
        "El puerto 433 (puerto destino más frecuente) es utilizado para servicios HTTPS. El puerto 49941 es un puerto dinámico/privado."
      ]
    },
    {
      "cell_type": "markdown",
      "metadata": {},
      "source": [
        "## Gráficas"
      ]
    },
    {
      "cell_type": "markdown",
      "metadata": {},
      "source": [
        "a. Muestre una gráfica 2D, en el eje Y las IPs origen, y en el eje X la suma de los payloads\n",
        "enviados de dichas direcciones. <br>\n",
        "b. Muestre una gráfica 2D, en el eje Y las IPs destino, y en el eje X la suma de los payloads\n",
        "recibidos en dichas direcciones. <br>\n",
        "c. Muestre una gráfica 2D, en el eje Y los puertos origen, y en el eje X la suma de los\n",
        "payloads enviados de dichos puertos.<br>\n",
        "d.\n",
        "Muestre una gráfica 2D, en el eje Y los puertos destino, y en el eje X la suma de los payloads recibidos en dichos puertos. <br>"
      ]
    },
    {
      "cell_type": "code",
      "execution_count": 97,
      "metadata": {},
      "outputs": [
        {
          "data": {
            "text/plain": [
              "<AxesSubplot:xlabel='payload', ylabel='src'>"
            ]
          },
          "execution_count": 97,
          "metadata": {},
          "output_type": "execute_result"
        },
        {
          "data": {
            "image/png": "[encoded data removed]",
            "text/plain": [
              "<Figure size 1152x648 with 1 Axes>"
            ]
          },
          "metadata": {
            "needs_background": "light"
          },
          "output_type": "display_data"
        }
      ],
      "source": [
        "plt.figure(figsize=(16,9))\n",
        "plt.xticks(rotation=45)\n",
        "\n",
        "data = df.groupby(['src'])['payload'].sum()\n",
        "sns.scatterplot(x=data, y=data.index)"
      ]
    },
    {
      "cell_type": "code",
      "execution_count": 101,
      "metadata": {},
      "outputs": [
        {
          "data": {
            "text/plain": [
              "<AxesSubplot:xlabel='payload', ylabel='dst'>"
            ]
          },
          "execution_count": 101,
          "metadata": {},
          "output_type": "execute_result"
        },
        {
          "data": {
            "image/png": "[encoded data removed]",
            "text/plain": [
              "<Figure size 1152x648 with 1 Axes>"
            ]
          },
          "metadata": {
            "needs_background": "light"
          },
          "output_type": "display_data"
        }
      ],
      "source": [
        "plt.figure(figsize=(16,9))\n",
        "plt.xticks(rotation=45)\n",
        "\n",
        "data = df.groupby(['dst'])['payload'].sum()\n",
        "sns.scatterplot(x=data, y=data.index)"
      ]
    },
    {
      "cell_type": "code",
      "execution_count": 102,
      "metadata": {},
      "outputs": [
        {
          "data": {
            "text/plain": [
              "<AxesSubplot:xlabel='payload', ylabel='sport'>"
            ]
          },
          "execution_count": 102,
          "metadata": {},
          "output_type": "execute_result"
        },
        {
          "data": {
            "image/png": "[encoded data removed]",
            "text/plain": [
              "<Figure size 1152x648 with 1 Axes>"
            ]
          },
          "metadata": {
            "needs_background": "light"
          },
          "output_type": "display_data"
        }
      ],
      "source": [
        "plt.figure(figsize=(16,9))\n",
        "plt.xticks(rotation=45)\n",
        "\n",
        "data = df.groupby(['sport'])['payload'].sum()\n",
        "sns.scatterplot(x=data, y=data.index)"
      ]
    },
    {
      "cell_type": "code",
      "execution_count": 103,
      "metadata": {},
      "outputs": [
        {
          "data": {
            "text/plain": [
              "<AxesSubplot:xlabel='payload', ylabel='dport'>"
            ]
          },
          "execution_count": 103,
          "metadata": {},
          "output_type": "execute_result"
        },
        {
          "data": {
            "image/png": "[encoded data removed]",
            "text/plain": [
              "<Figure size 1152x648 with 1 Axes>"
            ]
          },
          "metadata": {
            "needs_background": "light"
          },
          "output_type": "display_data"
        }
      ],
      "source": [
        "plt.figure(figsize=(16,9))\n",
        "plt.xticks(rotation=45)\n",
        "\n",
        "data = df.groupby(['dport'])['payload'].sum()\n",
        "sns.scatterplot(x=data, y=data.index)"
      ]
    },
    {
      "cell_type": "markdown",
      "metadata": {},
      "source": [
        "## Payload"
      ]
    },
    {
      "cell_type": "markdown",
      "metadata": {},
      "source": [
        "a. Cree un nuevo DF que incluya únicamente la conversación de la dirección IP origen más frecuente <br>\n",
        "b. Obtenga un nuevo DF con las columnas Src Address, Dst Address y agrúpelas por payload <br>\n",
        "c. Obtenga la IP que más ha intercambiado bytes con la IP más frecuente. Esta IP es sospechosa por la cantidad de bytes intercambiados, entre todas las direcciones. <br>\n",
        "d. Cree un nuevo DF con la conversación entre la IP más frecuenta y la IP sospechosa. <br>\n",
        "e. Obtenga los payloads del DF del inciso 6, y añada cada uno en un array. <br>\n",
        "f. Muestre el contenido del array. <br>\n",
        "g. Examine los primeros bytes del contenido, ¿encuentra algún dato que no haga sentido\n",
        "que se envie a través del puerto explicado en el inciso f? <br>"
      ]
    },
    {
      "cell_type": "code",
      "execution_count": null,
      "metadata": {},
      "outputs": [],
      "source": []
    }
  ],
  "metadata": {
    "colab": {
      "name": "Análisis de paquetes.ipynb",
      "provenance": []
    },
    "kernelspec": {
      "display_name": "Python 3",
      "name": "python3"
    },
    "language_info": {
      "codemirror_mode": {
        "name": "ipython",
        "version": 3
      },
      "file_extension": ".py",
      "mimetype": "text/x-python",
      "name": "python",
      "nbconvert_exporter": "python",
      "pygments_lexer": "ipython3",
      "version": "3.7.13"
    }
  },
  "nbformat": 4,
  "nbformat_minor": 0
}
