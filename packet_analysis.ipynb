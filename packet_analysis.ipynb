{
  "cells": [
    {
      "cell_type": "code",
      "execution_count": 22,
      "metadata": {
        "id": "8TrBXp14pv54"
      },
      "outputs": [],
      "source": [
        "from scapy.all import * # Packet manipulation\n",
        "import pandas as pd # Pandas - Create and Manipulate DataFrames\n",
        "import numpy as np # Math Stuff (don't worry only used for one line :] )\n",
        "import binascii # Binary to Ascii \n",
        "import seaborn as sns\n",
        "sns.set(color_codes=True)\n",
        "%matplotlib inline"
      ]
    },
    {
      "cell_type": "markdown",
      "metadata": {
        "id": "Z-HBMA7ep50R"
      },
      "source": [
        "Captura de 100 paquetes"
      ]
    },
    {
      "cell_type": "code",
      "execution_count": 23,
      "metadata": {
        "colab": {
          "base_uri": "https://localhost:8080/"
        },
        "id": "CFGBX16-p0SZ",
        "outputId": "3b196156-2772-41e5-e478-b37e6c5cd99f"
      },
      "outputs": [
        {
          "name": "stdout",
          "output_type": "stream",
          "text": [
            "<class 'scapy.plist.PacketList'>\n",
            "100\n",
            "<Sniffed: TCP:94 UDP:6 ICMP:0 Other:0>\n"
          ]
        },
        {
          "data": {
            "text/plain": [
              "<Ether  dst=ff:ff:ff:ff:ff:ff src=00:09:0f:09:00:22 type=IPv4 |<IP  version=4 ihl=5 tos=0x10 len=406 id=0 flags= frag=0 ttl=16 proto=udp chksum=0x689e src=192.168.128.1 dst=255.255.255.255 |<UDP  sport=bootps dport=bootpc len=386 chksum=0xf9fd |<BOOTP  op=BOOTREPLY htype=1 hlen=6 hops=0 xid=2984760539 secs=0 flags=B ciaddr=0.0.0.0 yiaddr=192.168.136.214 siaddr=0.0.0.0 giaddr=0.0.0.0 chaddr=b'P/\\x9b\\x014k\\x00\\x00\\x00\\x00\\x00\\x00\\x00\\x00\\x00\\x00' sname=b'\\x00\\x00\\x00\\x00\\x00\\x00\\x00\\x00\\x00\\x00\\x00\\x00\\x00\\x00\\x00\\x00\\x00\\x00\\x00\\x00\\x00\\x00\\x00\\x00\\x00\\x00\\x00\\x00\\x00\\x00\\x00\\x00\\x00\\x00\\x00\\x00\\x00\\x00\\x00\\x00\\x00\\x00\\x00\\x00\\x00\\x00\\x00\\x00\\x00\\x00\\x00\\x00\\x00\\x00\\x00\\x00\\x00\\x00\\x00\\x00\\x00\\x00\\x00\\x00' file=b'\\x00\\x00\\x00\\x00\\x00\\x00\\x00\\x00\\x00\\x00\\x00\\x00\\x00\\x00\\x00\\x00\\x00\\x00\\x00\\x00\\x00\\x00\\x00\\x00\\x00\\x00\\x00\\x00\\x00\\x00\\x00\\x00\\x00\\x00\\x00\\x00\\x00\\x00\\x00\\x00\\x00\\x00\\x00\\x00\\x00\\x00\\x00\\x00\\x00\\x00\\x00\\x00\\x00\\x00\\x00\\x00\\x00\\x00\\x00\\x00\\x00\\x00\\x00\\x00\\x00\\x00\\x00\\x00\\x00\\x00\\x00\\x00\\x00\\x00\\x00\\x00\\x00\\x00\\x00\\x00\\x00\\x00\\x00\\x00\\x00\\x00\\x00\\x00\\x00\\x00\\x00\\x00\\x00\\x00\\x00\\x00\\x00\\x00\\x00\\x00\\x00\\x00\\x00\\x00\\x00\\x00\\x00\\x00\\x00\\x00\\x00\\x00\\x00\\x00\\x00\\x00\\x00\\x00\\x00\\x00\\x00\\x00\\x00\\x00\\x00\\x00\\x00\\x00' options='c\\\\x82Sc' |<DHCP  options=[message-type=ack server_id=192.168.128.1 lease_time=172800 subnet_mask=255.255.192.0 router=192.168.128.1 name_server=192.168.8.200,190.106.193.241 renewal_time=86400 rebinding_time=151200 time_zone=4294945696 NTP_server=208.91.112.61,208.91.112.63,208.91.112.60,208.91.112.62 client_FQDN=b'\\x00\\xff\\xffMOVIL-D0FN8C3.uvg.edu.gt' 224=b'FGT2KE3916900079FGT2KE3916900148\\x00' end] |>>>>>"
            ]
          },
          "execution_count": 23,
          "metadata": {},
          "output_type": "execute_result"
        }
      ],
      "source": [
        "num_of_packets_to_sniff = 100\n",
        "pcap = sniff(count=num_of_packets_to_sniff)\n"
      ]
    },
    {
      "cell_type": "code",
      "execution_count": 25,
      "metadata": {},
      "outputs": [
        {
          "name": "stdout",
          "output_type": "stream",
          "text": [
            "<class 'scapy.plist.PacketList'>\n",
            "62\n",
            "<analisis_paquetes.pcap: TCP:0 UDP:62 ICMP:0 Other:0>\n"
          ]
        },
        {
          "data": {
            "text/plain": [
              "<Ether  dst=80:37:73:96:9b:db src=88:e9:fe:6a:92:52 type=IPv4 |<IP  version=4 ihl=5 tos=0x0 len=961 id=1 flags= frag=0 ttl=64 proto=udp chksum=0x52e6 src=10.1.10.53 dst=84.54.22.33 |<UDP  sport=domain dport=domain len=941 chksum=0xf60e |<DNS  id=12 qr=0 opcode=QUERY aa=0 tc=0 rd=1 ra=0 z=0 ad=0 cd=0 rcode=ok qdcount=1 ancount=0 nscount=0 arcount=0 qd=<DNSQR  qname='google.com.' qtype=AAAA qclass=IN |> an=None ns=None ar=None |<Raw  load='�PNG\\r\\n\\x1a\\n\\x00\\x00\\x00\\rIHDR\\x00\\x00\\x01b\\x00\\x00\\x00�\\x08\\x06\\x00\\x00\\x00(�TR\\x00\\x00:�IDATx��\\t|T�����;K\\x12\\x08;\\x08�\\nE��$\\x19��Ziߪ-�;N2��V�V�a�Z\\x11!��\\x01ܻik[�.ok�e�\\x01\\\\��]�-���d�\\x08�\\x08��g���<��L\\x12�$3wf��\\x02<_\\r�Y�r��y���\\x1c\\r\\x18�8c�ew\\r\\x1e����\\x13�iaK����u}Ųw�d��\\x15�\"`\\x06:\\x13�\\x0b�\\x0c\\x16�\\x12�&�9Ɛ�\\x00���\\x08\\x111ҌQHP*�@\\x04O4���7<y�\\x0e.9���a2@a��&\"�\\x13\\x11�c�kO�s@�9�i�4X�x�K�a!f��0w��3dx\\x1d\"���C(�}�0|q�*��\\x0b�a!f�4��.�sKg\\x10\\x11]=9NԂ\\x06��u���K_�e\\x06*���\\x19Px��%��\\x03�3��\\x1e\"E?\\x0f���+H�]Q�k����8�\"�\\x1d\\x114v�2\\x10���咯̸|�x.\\\\�-b�I�B���@�L��CJ]XWQ����uQ�kQ\\x13\\x7f�N�1\\x00���2\\x17�03\\x10�\\\\\\x04�@!�H�BJqG\\'+�R�U\\\\[����GXC;��Ԏ�q�!\\x04�r�s=�\\x02rԴ\\x0b���_S�%�ph�a\\x12Y\\x05\\x02����c���P�9�' |>>>>>"
            ]
          },
          "execution_count": 25,
          "metadata": {},
          "output_type": "execute_result"
        }
      ],
      "source": [
        "analisis_paquetes = rdpcap(\"datasets/analisis_paquetes.pcap\")\n"
      ]
    },
    {
      "cell_type": "code",
      "execution_count": 26,
      "metadata": {},
      "outputs": [
        {
          "name": "stdout",
          "output_type": "stream",
          "text": [
            "<class 'scapy.plist.PacketList'>\n",
            "162\n",
            "<Sniffed: TCP:94 UDP:68 ICMP:0 Other:0>\n"
          ]
        },
        {
          "data": {
            "text/plain": [
              "<Ether  dst=ff:ff:ff:ff:ff:ff src=00:09:0f:09:00:22 type=IPv4 |<IP  version=4 ihl=5 tos=0x10 len=406 id=0 flags= frag=0 ttl=16 proto=udp chksum=0x689e src=192.168.128.1 dst=255.255.255.255 |<UDP  sport=bootps dport=bootpc len=386 chksum=0xf9fd |<BOOTP  op=BOOTREPLY htype=1 hlen=6 hops=0 xid=2984760539 secs=0 flags=B ciaddr=0.0.0.0 yiaddr=192.168.136.214 siaddr=0.0.0.0 giaddr=0.0.0.0 chaddr=b'P/\\x9b\\x014k\\x00\\x00\\x00\\x00\\x00\\x00\\x00\\x00\\x00\\x00' sname=b'\\x00\\x00\\x00\\x00\\x00\\x00\\x00\\x00\\x00\\x00\\x00\\x00\\x00\\x00\\x00\\x00\\x00\\x00\\x00\\x00\\x00\\x00\\x00\\x00\\x00\\x00\\x00\\x00\\x00\\x00\\x00\\x00\\x00\\x00\\x00\\x00\\x00\\x00\\x00\\x00\\x00\\x00\\x00\\x00\\x00\\x00\\x00\\x00\\x00\\x00\\x00\\x00\\x00\\x00\\x00\\x00\\x00\\x00\\x00\\x00\\x00\\x00\\x00\\x00' file=b'\\x00\\x00\\x00\\x00\\x00\\x00\\x00\\x00\\x00\\x00\\x00\\x00\\x00\\x00\\x00\\x00\\x00\\x00\\x00\\x00\\x00\\x00\\x00\\x00\\x00\\x00\\x00\\x00\\x00\\x00\\x00\\x00\\x00\\x00\\x00\\x00\\x00\\x00\\x00\\x00\\x00\\x00\\x00\\x00\\x00\\x00\\x00\\x00\\x00\\x00\\x00\\x00\\x00\\x00\\x00\\x00\\x00\\x00\\x00\\x00\\x00\\x00\\x00\\x00\\x00\\x00\\x00\\x00\\x00\\x00\\x00\\x00\\x00\\x00\\x00\\x00\\x00\\x00\\x00\\x00\\x00\\x00\\x00\\x00\\x00\\x00\\x00\\x00\\x00\\x00\\x00\\x00\\x00\\x00\\x00\\x00\\x00\\x00\\x00\\x00\\x00\\x00\\x00\\x00\\x00\\x00\\x00\\x00\\x00\\x00\\x00\\x00\\x00\\x00\\x00\\x00\\x00\\x00\\x00\\x00\\x00\\x00\\x00\\x00\\x00\\x00\\x00\\x00' options='c\\\\x82Sc' |<DHCP  options=[message-type=ack server_id=192.168.128.1 lease_time=172800 subnet_mask=255.255.192.0 router=192.168.128.1 name_server=192.168.8.200,190.106.193.241 renewal_time=86400 rebinding_time=151200 time_zone=4294945696 NTP_server=208.91.112.61,208.91.112.63,208.91.112.60,208.91.112.62 client_FQDN=b'\\x00\\xff\\xffMOVIL-D0FN8C3.uvg.edu.gt' 224=b'FGT2KE3916900079FGT2KE3916900148\\x00' end] |>>>>>"
            ]
          },
          "execution_count": 26,
          "metadata": {},
          "output_type": "execute_result"
        }
      ],
      "source": [
        "# add .pcap to sniffed packets\n",
        "for pkt in analisis_paquetes:\n",
        "    pcap.append(pkt)"
      ]
    },
    {
      "cell_type": "markdown",
      "metadata": {
        "id": "S8KkL6uTqwD2"
      },
      "source": [
        "TCP"
      ]
    },
    {
      "cell_type": "code",
      "execution_count": 7,
      "metadata": {
        "colab": {
          "base_uri": "https://localhost:8080/"
        },
        "id": "VEWhUmrsqUFC",
        "outputId": "c965a5c9-51b8-476f-fec8-c4de001f74c1"
      },
      "outputs": [
        {
          "name": "stdout",
          "output_type": "stream",
          "text": [
            "\n"
          ]
        }
      ],
      "source": [
        "\"\"\"\n",
        "0                   1                   2                   3\n",
        "0 1 2 3 4 5 6 7 8 9 0 1 2 3 4 5 6 7 8 9 0 1 2 3 4 5 6 7 8 9 0 1\n",
        "+-+-+-+-+-+-+-+-+-+-+-+-+-+-+-+-+-+-+-+-+-+-+-+-+-+-+-+-+-+-+-+-+\n",
        "|          Source Port          |       Destination Port        |\n",
        "+-+-+-+-+-+-+-+-+-+-+-+-+-+-+-+-+-+-+-+-+-+-+-+-+-+-+-+-+-+-+-+-+\n",
        "|                        Sequence Number                        |\n",
        "+-+-+-+-+-+-+-+-+-+-+-+-+-+-+-+-+-+-+-+-+-+-+-+-+-+-+-+-+-+-+-+-+\n",
        "|                    Acknowledgment Number                      |\n",
        "+-+-+-+-+-+-+-+-+-+-+-+-+-+-+-+-+-+-+-+-+-+-+-+-+-+-+-+-+-+-+-+-+\n",
        "|  Data |           |U|A|P|R|S|F|                               |\n",
        "| Offset| Reserved  |R|C|S|S|Y|I|            Window             |\n",
        "|       |           |G|K|H|T|N|N|                               |\n",
        "+-+-+-+-+-+-+-+-+-+-+-+-+-+-+-+-+-+-+-+-+-+-+-+-+-+-+-+-+-+-+-+-+\n",
        "|           Checksum            |         Urgent Pointer        |\n",
        "+-+-+-+-+-+-+-+-+-+-+-+-+-+-+-+-+-+-+-+-+-+-+-+-+-+-+-+-+-+-+-+-+\n",
        "|                    Options                    |    Padding    |\n",
        "+-+-+-+-+-+-+-+-+-+-+-+-+-+-+-+-+-+-+-+-+-+-+-+-+-+-+-+-+-+-+-+-+\n",
        "|                             data                              |\n",
        "+-+-+-+-+-+-+-+-+-+-+-+-+-+-+-+-+-+-+-+-+-+-+-+-+-+-+-+-+-+-+-+-+\n",
        "02 04 05 a0 01 03 03 05 01 01 08 0a 1d 74 65 c5 00 00 00 00 04 02 00 00\n",
        "\"\"\"\n",
        "\n",
        "print()"
      ]
    },
    {
      "cell_type": "markdown",
      "metadata": {
        "id": "tcOQYhxiqy7L"
      },
      "source": [
        "Exploración"
      ]
    },
    {
      "cell_type": "code",
      "execution_count": 6,
      "metadata": {
        "colab": {
          "base_uri": "https://localhost:8080/"
        },
        "id": "6V_p1aruq4d4",
        "outputId": "f03f1417-7015-469d-b69c-783411437201"
      },
      "outputs": [
        {
          "name": "stdout",
          "output_type": "stream",
          "text": [
            "Informacion del frame:\n",
            "Ether / IP / TCP 172.28.0.2:8080 > 172.28.0.1:52420 FA\n",
            "Informacion del paquete:\n",
            "IP / TCP 172.28.0.2:8080 > 172.28.0.1:52420 FA\n",
            "Informacion del segmento:\n",
            "TCP 172.28.0.2:8080 > 172.28.0.1:52420 FA\n",
            "Data:\n",
            "\n",
            "###[ Ethernet ]### \n",
            "  dst       = 02:42:04:54:f1:51\n",
            "  src       = 02:42:ac:1c:00:02\n",
            "  type      = IPv4\n",
            "###[ IP ]### \n",
            "     version   = 4\n",
            "     ihl       = 5\n",
            "     tos       = 0x0\n",
            "     len       = 52\n",
            "     id        = 9466\n",
            "     flags     = DF\n",
            "     frag      = 0\n",
            "     ttl       = 64\n",
            "     proto     = 6\n",
            "     chksum    = 0xbd8e\n",
            "     src       = 172.28.0.2\n",
            "     dst       = 172.28.0.1\n",
            "     \\options   \\\n",
            "###[ TCP ]### \n",
            "        sport     = 8080\n",
            "        dport     = 52420\n",
            "        seq       = 293036563\n",
            "        ack       = 2738177287\n",
            "        dataofs   = 8\n",
            "        reserved  = 0\n",
            "        flags     = FA\n",
            "        window    = 501\n",
            "        chksum    = 0x5862\n",
            "        urgptr    = 0\n",
            "        options   = [('NOP', None), ('NOP', None), ('Timestamp', (2326413667, 1059821441))]\n",
            "\n"
          ]
        }
      ],
      "source": [
        "#Recordemos que en los modelos de red, las capas inferiores encapsulan la información de las capas superiores\n",
        "#Frames en paquetes, paquetes en segmentos (Ethernet, IP), modelo TCP/IP\n",
        "\n",
        "ethernet_frame = pcap[0]\n",
        "ip_packet = ethernet_frame.payload\n",
        "segment = ip_packet.payload\n",
        "data = segment.payload #recupera la informacion de la capa 4\n",
        "\n",
        "print(\"Informacion del frame:\")\n",
        "print(ethernet_frame.summary())\n",
        "\n",
        "print(\"Informacion del paquete:\")\n",
        "print(ip_packet.summary())\n",
        "\n",
        "print(\"Informacion del segmento:\")\n",
        "print(segment.summary())\n",
        "\n",
        "print(\"Data:\")\n",
        "print(data.summary())\n",
        "\n",
        "ethernet_frame.show()\n",
        "data.show()"
      ]
    },
    {
      "cell_type": "markdown",
      "metadata": {
        "id": "B7VfYOxJsq1Y"
      },
      "source": [
        "Tipos de datos en Scapy"
      ]
    },
    {
      "cell_type": "code",
      "execution_count": 7,
      "metadata": {
        "colab": {
          "base_uri": "https://localhost:8080/"
        },
        "id": "ll1ixX5KspSd",
        "outputId": "9d46481b-4b37-4c66-b69a-7e28921017f0"
      },
      "outputs": [
        {
          "name": "stdout",
          "output_type": "stream",
          "text": [
            "<class 'scapy.layers.l2.Ether'>\n",
            "<class 'scapy.layers.inet.IP'>\n",
            "<class 'scapy.layers.inet.TCP'>\n",
            "Ethernet <Ether from Sniffed: TCP:10 UDP:0 ICMP:0 Other:0>\n",
            "IP <IP from Sniffed: TCP:10 UDP:0 ICMP:0 Other:0>\n",
            "TCP <TCP from Sniffed: TCP:10 UDP:0 ICMP:0 Other:0>\n",
            "UDP <UDP from Sniffed: TCP:0 UDP:0 ICMP:0 Other:0>\n"
          ]
        }
      ],
      "source": [
        "print(type(ethernet_frame))\n",
        "print(type(ip_packet))\n",
        "print(type(segment))\n",
        "\n",
        "# Packets can be filtered on layers ie) ethernet_frame[scapy.layers.l2.Ether]\n",
        "ethernet_type = type(ethernet_frame)\n",
        "ip_type = type(ip_packet)\n",
        "tcp_type = type(segment)\n",
        "print(\"Ethernet\",pcap[ethernet_type])\n",
        "print(\"IP\", pcap[ip_type])\n",
        "print(\"TCP\", pcap[tcp_type])\n",
        "\n",
        "# Scapy provides this via import statements\n",
        "from scapy.layers.l2 import Ether\n",
        "from scapy.layers.inet import IP\n",
        "from scapy.layers.inet import TCP, UDP\n",
        "\n",
        "print(\"UDP\", pcap[UDP])"
      ]
    },
    {
      "cell_type": "markdown",
      "metadata": {
        "id": "ioVnNkvRthYL"
      },
      "source": [
        "Conversion de PCAP a DF"
      ]
    },
    {
      "cell_type": "code",
      "execution_count": 34,
      "metadata": {
        "colab": {
          "base_uri": "https://localhost:8080/"
        },
        "id": "H50zKfyhtkck",
        "outputId": "135dd4af-36b9-4e0a-df68-6e0f8a2dc9c9"
      },
      "outputs": [
        {
          "name": "stdout",
          "output_type": "stream",
          "text": [
            "Index(['version', 'ihl', 'tos', 'len', 'id', 'flags', 'frag', 'ttl', 'proto',\n",
            "       'chksum', 'src', 'dst', 'options', 'time', 'sport', 'dport', 'seq',\n",
            "       'ack', 'dataofs', 'reserved', 'flags', 'window', 'chksum', 'urgptr',\n",
            "       'options', 'payload', 'payload_raw', 'payload_hex'],\n",
            "      dtype='object')\n"
          ]
        },
        {
          "data": {
            "text/html": [
              "<div>\n",
              "<style scoped>\n",
              "    .dataframe tbody tr th:only-of-type {\n",
              "        vertical-align: middle;\n",
              "    }\n",
              "\n",
              "    .dataframe tbody tr th {\n",
              "        vertical-align: top;\n",
              "    }\n",
              "\n",
              "    .dataframe thead th {\n",
              "        text-align: right;\n",
              "    }\n",
              "</style>\n",
              "<table border=\"1\" class=\"dataframe\">\n",
              "  <thead>\n",
              "    <tr style=\"text-align: right;\">\n",
              "      <th></th>\n",
              "      <th>version</th>\n",
              "      <th>ihl</th>\n",
              "      <th>tos</th>\n",
              "      <th>len</th>\n",
              "      <th>id</th>\n",
              "      <th>flags</th>\n",
              "      <th>frag</th>\n",
              "      <th>ttl</th>\n",
              "      <th>proto</th>\n",
              "      <th>chksum</th>\n",
              "      <th>...</th>\n",
              "      <th>dataofs</th>\n",
              "      <th>reserved</th>\n",
              "      <th>flags</th>\n",
              "      <th>window</th>\n",
              "      <th>chksum</th>\n",
              "      <th>urgptr</th>\n",
              "      <th>options</th>\n",
              "      <th>payload</th>\n",
              "      <th>payload_raw</th>\n",
              "      <th>payload_hex</th>\n",
              "    </tr>\n",
              "  </thead>\n",
              "  <tbody>\n",
              "    <tr>\n",
              "      <th>0</th>\n",
              "      <td>4</td>\n",
              "      <td>5</td>\n",
              "      <td>16</td>\n",
              "      <td>406</td>\n",
              "      <td>0</td>\n",
              "      <td></td>\n",
              "      <td>0</td>\n",
              "      <td>16</td>\n",
              "      <td>17</td>\n",
              "      <td>26782</td>\n",
              "      <td>...</td>\n",
              "      <td>None</td>\n",
              "      <td>None</td>\n",
              "      <td>None</td>\n",
              "      <td>None</td>\n",
              "      <td>63997</td>\n",
              "      <td>None</td>\n",
              "      <td>None</td>\n",
              "      <td>378</td>\n",
              "      <td>b'\\x02\\x01\\x06\\x00\\xb1\\xe7\\xd4\\xdb\\x00\\x00\\x80...</td>\n",
              "      <td>b'02010600b1e7d4db0000800000000000c0a888d60000...</td>\n",
              "    </tr>\n",
              "    <tr>\n",
              "      <th>1</th>\n",
              "      <td>4</td>\n",
              "      <td>5</td>\n",
              "      <td>72</td>\n",
              "      <td>1133</td>\n",
              "      <td>24358</td>\n",
              "      <td></td>\n",
              "      <td>0</td>\n",
              "      <td>123</td>\n",
              "      <td>6</td>\n",
              "      <td>34545</td>\n",
              "      <td>...</td>\n",
              "      <td>8</td>\n",
              "      <td>0</td>\n",
              "      <td>PA</td>\n",
              "      <td>1050</td>\n",
              "      <td>3061</td>\n",
              "      <td>0</td>\n",
              "      <td>3</td>\n",
              "      <td>1081</td>\n",
              "      <td>b'\\x17\\x03\\x03\\x00C\\xd8\\xb8s\\x11\\x1b\\xd2\\x8a\\x...</td>\n",
              "      <td>b'1703030043d8b873111bd28ae829f390f7d6eff53362...</td>\n",
              "    </tr>\n",
              "    <tr>\n",
              "      <th>2</th>\n",
              "      <td>4</td>\n",
              "      <td>5</td>\n",
              "      <td>0</td>\n",
              "      <td>52</td>\n",
              "      <td>0</td>\n",
              "      <td>DF</td>\n",
              "      <td>0</td>\n",
              "      <td>64</td>\n",
              "      <td>6</td>\n",
              "      <td>58776</td>\n",
              "      <td>...</td>\n",
              "      <td>8</td>\n",
              "      <td>0</td>\n",
              "      <td>A</td>\n",
              "      <td>2075</td>\n",
              "      <td>57818</td>\n",
              "      <td>0</td>\n",
              "      <td>3</td>\n",
              "      <td>0</td>\n",
              "      <td>b''</td>\n",
              "      <td>b''</td>\n",
              "    </tr>\n",
              "    <tr>\n",
              "      <th>3</th>\n",
              "      <td>4</td>\n",
              "      <td>5</td>\n",
              "      <td>72</td>\n",
              "      <td>1133</td>\n",
              "      <td>24358</td>\n",
              "      <td></td>\n",
              "      <td>0</td>\n",
              "      <td>123</td>\n",
              "      <td>6</td>\n",
              "      <td>34545</td>\n",
              "      <td>...</td>\n",
              "      <td>8</td>\n",
              "      <td>0</td>\n",
              "      <td>PA</td>\n",
              "      <td>1050</td>\n",
              "      <td>3061</td>\n",
              "      <td>0</td>\n",
              "      <td>3</td>\n",
              "      <td>1081</td>\n",
              "      <td>b'\\x17\\x03\\x03\\x00C\\xd8\\xb8s\\x11\\x1b\\xd2\\x8a\\x...</td>\n",
              "      <td>b'1703030043d8b873111bd28ae829f390f7d6eff53362...</td>\n",
              "    </tr>\n",
              "    <tr>\n",
              "      <th>4</th>\n",
              "      <td>4</td>\n",
              "      <td>5</td>\n",
              "      <td>0</td>\n",
              "      <td>64</td>\n",
              "      <td>0</td>\n",
              "      <td>DF</td>\n",
              "      <td>0</td>\n",
              "      <td>64</td>\n",
              "      <td>6</td>\n",
              "      <td>58764</td>\n",
              "      <td>...</td>\n",
              "      <td>11</td>\n",
              "      <td>0</td>\n",
              "      <td>A</td>\n",
              "      <td>2092</td>\n",
              "      <td>22936</td>\n",
              "      <td>0</td>\n",
              "      <td>6</td>\n",
              "      <td>0</td>\n",
              "      <td>b''</td>\n",
              "      <td>b''</td>\n",
              "    </tr>\n",
              "  </tbody>\n",
              "</table>\n",
              "<p>5 rows × 28 columns</p>\n",
              "</div>"
            ],
            "text/plain": [
              "  version ihl tos   len     id flags frag  ttl proto chksum  ... dataofs  \\\n",
              "0       4   5  16   406      0          0   16    17  26782  ...    None   \n",
              "1       4   5  72  1133  24358          0  123     6  34545  ...       8   \n",
              "2       4   5   0    52      0    DF    0   64     6  58776  ...       8   \n",
              "3       4   5  72  1133  24358          0  123     6  34545  ...       8   \n",
              "4       4   5   0    64      0    DF    0   64     6  58764  ...      11   \n",
              "\n",
              "  reserved flags window chksum urgptr options payload  \\\n",
              "0     None  None   None  63997   None    None     378   \n",
              "1        0    PA   1050   3061      0       3    1081   \n",
              "2        0     A   2075  57818      0       3       0   \n",
              "3        0    PA   1050   3061      0       3    1081   \n",
              "4        0     A   2092  22936      0       6       0   \n",
              "\n",
              "                                         payload_raw  \\\n",
              "0  b'\\x02\\x01\\x06\\x00\\xb1\\xe7\\xd4\\xdb\\x00\\x00\\x80...   \n",
              "1  b'\\x17\\x03\\x03\\x00C\\xd8\\xb8s\\x11\\x1b\\xd2\\x8a\\x...   \n",
              "2                                                b''   \n",
              "3  b'\\x17\\x03\\x03\\x00C\\xd8\\xb8s\\x11\\x1b\\xd2\\x8a\\x...   \n",
              "4                                                b''   \n",
              "\n",
              "                                         payload_hex  \n",
              "0  b'02010600b1e7d4db0000800000000000c0a888d60000...  \n",
              "1  b'1703030043d8b873111bd28ae829f390f7d6eff53362...  \n",
              "2                                                b''  \n",
              "3  b'1703030043d8b873111bd28ae829f390f7d6eff53362...  \n",
              "4                                                b''  \n",
              "\n",
              "[5 rows x 28 columns]"
            ]
          },
          "execution_count": 34,
          "metadata": {},
          "output_type": "execute_result"
        }
      ],
      "source": [
        "# Obtenemos los campos de IP/TCP/UDP que seran las columnas de nuestro DF\n",
        "ip_fields = [field.name for field in IP().fields_desc]\n",
        "tcp_fields = [field.name for field in TCP().fields_desc]\n",
        "udp_fields = [field.name for field in UDP().fields_desc]\n",
        "\n",
        "#Concatenamos todos los campos\n",
        "dataframe_fields = ip_fields + ['time'] + tcp_fields + ['payload','payload_raw','payload_hex']\n",
        "\n",
        "# Creamos un DF en blanco con los campos como columnas\n",
        "df = pd.DataFrame(columns=dataframe_fields)\n",
        "for packet in pcap[IP]:\n",
        "    # Obtenemos los valores de los campos de cada fila\n",
        "    field_values = []\n",
        "    # A;adimos todos los valores de los campos de IP al df\n",
        "    for field in ip_fields:\n",
        "        if field == 'options':\n",
        "            # Obtenemos el numero de opciones del IP Header\n",
        "            field_values.append(len(packet[IP].fields[field]))\n",
        "        else:\n",
        "            field_values.append(packet[IP].fields[field])\n",
        "    \n",
        "    field_values.append(packet.time)\n",
        "    \n",
        "    layer_type = type(packet[IP].payload)\n",
        "    for field in tcp_fields:\n",
        "        try:\n",
        "            if field == 'options':\n",
        "                field_values.append(len(packet[layer_type].fields[field]))\n",
        "            else:\n",
        "                field_values.append(packet[layer_type].fields[field])\n",
        "        except:\n",
        "            field_values.append(None)\n",
        "    \n",
        "    # Agregamos el payload\n",
        "    field_values.append(len(packet[layer_type].payload))\n",
        "    field_values.append(packet[layer_type].payload.original)\n",
        "    field_values.append(binascii.hexlify(packet[layer_type].payload.original))\n",
        "    # Agregamos la fila al df\n",
        "    df_append = pd.DataFrame([field_values], columns=dataframe_fields)\n",
        "    df = pd.concat([df, df_append], axis=0)\n",
        "\n",
        "# Reset Index\n",
        "df = df.reset_index()\n",
        "# Drop old index column\n",
        "df = df.drop(columns=\"index\")\n",
        "\n",
        "print(df.columns)\n",
        "df.head(5)"
      ]
    },
    {
      "cell_type": "code",
      "execution_count": 35,
      "metadata": {
        "colab": {
          "base_uri": "https://localhost:8080/",
          "height": 363
        },
        "id": "LqqOTjHmzcpJ",
        "outputId": "f424cc4c-df1b-4820-a285-4ca749ed1e0e"
      },
      "outputs": [
        {
          "data": {
            "text/html": [
              "<div>\n",
              "<style scoped>\n",
              "    .dataframe tbody tr th:only-of-type {\n",
              "        vertical-align: middle;\n",
              "    }\n",
              "\n",
              "    .dataframe tbody tr th {\n",
              "        vertical-align: top;\n",
              "    }\n",
              "\n",
              "    .dataframe thead th {\n",
              "        text-align: right;\n",
              "    }\n",
              "</style>\n",
              "<table border=\"1\" class=\"dataframe\">\n",
              "  <thead>\n",
              "    <tr style=\"text-align: right;\">\n",
              "      <th></th>\n",
              "      <th>src</th>\n",
              "      <th>dst</th>\n",
              "      <th>sport</th>\n",
              "      <th>dport</th>\n",
              "    </tr>\n",
              "  </thead>\n",
              "  <tbody>\n",
              "    <tr>\n",
              "      <th>0</th>\n",
              "      <td>192.168.128.1</td>\n",
              "      <td>255.255.255.255</td>\n",
              "      <td>67</td>\n",
              "      <td>68</td>\n",
              "    </tr>\n",
              "    <tr>\n",
              "      <th>1</th>\n",
              "      <td>35.186.224.25</td>\n",
              "      <td>192.168.144.175</td>\n",
              "      <td>443</td>\n",
              "      <td>49580</td>\n",
              "    </tr>\n",
              "    <tr>\n",
              "      <th>2</th>\n",
              "      <td>192.168.144.175</td>\n",
              "      <td>35.186.224.25</td>\n",
              "      <td>49580</td>\n",
              "      <td>443</td>\n",
              "    </tr>\n",
              "    <tr>\n",
              "      <th>3</th>\n",
              "      <td>35.186.224.25</td>\n",
              "      <td>192.168.144.175</td>\n",
              "      <td>443</td>\n",
              "      <td>49580</td>\n",
              "    </tr>\n",
              "    <tr>\n",
              "      <th>4</th>\n",
              "      <td>192.168.144.175</td>\n",
              "      <td>35.186.224.25</td>\n",
              "      <td>49580</td>\n",
              "      <td>443</td>\n",
              "    </tr>\n",
              "    <tr>\n",
              "      <th>...</th>\n",
              "      <td>...</td>\n",
              "      <td>...</td>\n",
              "      <td>...</td>\n",
              "      <td>...</td>\n",
              "    </tr>\n",
              "    <tr>\n",
              "      <th>157</th>\n",
              "      <td>84.54.22.33</td>\n",
              "      <td>10.1.10.53</td>\n",
              "      <td>53</td>\n",
              "      <td>53</td>\n",
              "    </tr>\n",
              "    <tr>\n",
              "      <th>158</th>\n",
              "      <td>10.1.10.53</td>\n",
              "      <td>84.54.22.33</td>\n",
              "      <td>53</td>\n",
              "      <td>53</td>\n",
              "    </tr>\n",
              "    <tr>\n",
              "      <th>159</th>\n",
              "      <td>84.54.22.33</td>\n",
              "      <td>10.1.10.53</td>\n",
              "      <td>53</td>\n",
              "      <td>53</td>\n",
              "    </tr>\n",
              "    <tr>\n",
              "      <th>160</th>\n",
              "      <td>10.1.10.53</td>\n",
              "      <td>84.54.22.33</td>\n",
              "      <td>53</td>\n",
              "      <td>53</td>\n",
              "    </tr>\n",
              "    <tr>\n",
              "      <th>161</th>\n",
              "      <td>84.54.22.33</td>\n",
              "      <td>10.1.10.53</td>\n",
              "      <td>53</td>\n",
              "      <td>53</td>\n",
              "    </tr>\n",
              "  </tbody>\n",
              "</table>\n",
              "<p>162 rows × 4 columns</p>\n",
              "</div>"
            ],
            "text/plain": [
              "                 src              dst  sport  dport\n",
              "0      192.168.128.1  255.255.255.255     67     68\n",
              "1      35.186.224.25  192.168.144.175    443  49580\n",
              "2    192.168.144.175    35.186.224.25  49580    443\n",
              "3      35.186.224.25  192.168.144.175    443  49580\n",
              "4    192.168.144.175    35.186.224.25  49580    443\n",
              "..               ...              ...    ...    ...\n",
              "157      84.54.22.33       10.1.10.53     53     53\n",
              "158       10.1.10.53      84.54.22.33     53     53\n",
              "159      84.54.22.33       10.1.10.53     53     53\n",
              "160       10.1.10.53      84.54.22.33     53     53\n",
              "161      84.54.22.33       10.1.10.53     53     53\n",
              "\n",
              "[162 rows x 4 columns]"
            ]
          },
          "execution_count": 35,
          "metadata": {},
          "output_type": "execute_result"
        }
      ],
      "source": [
        "# Return Src Address, Dst Address, Src Port, Dst Port\n",
        "df[['src','dst','sport','dport']]"
      ]
    },
    {
      "cell_type": "code",
      "execution_count": 36,
      "metadata": {
        "colab": {
          "base_uri": "https://localhost:8080/"
        },
        "id": "rG6Pfp_VzfUe",
        "outputId": "709af016-65bc-496b-8fa1-334a46830c12"
      },
      "outputs": [
        {
          "name": "stdout",
          "output_type": "stream",
          "text": [
            "# Top Source Address\n",
            "count                 162\n",
            "unique                 12\n",
            "top       192.168.144.175\n",
            "freq                   55\n",
            "Name: src, dtype: object \n",
            "\n",
            "\n"
          ]
        }
      ],
      "source": [
        "#Calcular estadisticas\n",
        "print(\"# Top Source Address\")\n",
        "print(df['src'].describe(),'\\n\\n')"
      ]
    },
    {
      "cell_type": "code",
      "execution_count": 37,
      "metadata": {
        "colab": {
          "base_uri": "https://localhost:8080/"
        },
        "id": "e1kc8Mzf_uZl",
        "outputId": "9b0400e0-be07-4951-dcae-23531167651e"
      },
      "outputs": [
        {
          "name": "stdout",
          "output_type": "stream",
          "text": [
            "['35.186.224.25' '157.240.233.60' '192.168.191.255' '142.250.217.206'\n",
            " '192.168.8.200' '104.46.162.226' '172.217.165.202' '64.4.54.254'\n",
            " '170.114.15.35'] \n",
            "\n",
            "\n"
          ]
        }
      ],
      "source": [
        "#¿Quien es la IP de origen mas frecuente?\n",
        "frequent_address = df['src'].describe()['top']\n",
        "\n",
        "\n",
        "# A que IPs les habla la IP mas frecuente\n",
        "print(df[df['src'] == frequent_address]['dst'].unique(),\"\\n\\n\")"
      ]
    },
    {
      "cell_type": "code",
      "execution_count": null,
      "metadata": {},
      "outputs": [],
      "source": []
    }
  ],
  "metadata": {
    "colab": {
      "name": "Análisis de paquetes.ipynb",
      "provenance": []
    },
    "kernelspec": {
      "display_name": "Python 3",
      "name": "python3"
    },
    "language_info": {
      "codemirror_mode": {
        "name": "ipython",
        "version": 3
      },
      "file_extension": ".py",
      "mimetype": "text/x-python",
      "name": "python",
      "nbconvert_exporter": "python",
      "pygments_lexer": "ipython3",
      "version": "3.7.13"
    }
  },
  "nbformat": 4,
  "nbformat_minor": 0
}
