{
  "cells": [
    {
      "cell_type": "code",
      "execution_count": 22,
      "metadata": {
        "id": "8TrBXp14pv54"
      },
      "outputs": [],
      "source": [
        "from scapy.all import * # Packet manipulation\n",
        "import pandas as pd # Pandas - Create and Manipulate DataFrames\n",
        "import numpy as np # Math Stuff (don't worry only used for one line :] )\n",
        "import binascii # Binary to Ascii \n",
        "import seaborn as sns\n",
        "sns.set(color_codes=True)\n",
        "%matplotlib inline"
      ]
    },
    {
      "cell_type": "markdown",
      "metadata": {
        "id": "Z-HBMA7ep50R"
      },
      "source": [
        "Captura de 100 paquetes"
      ]
    },
    {
      "cell_type": "code",
      "execution_count": 23,
      "metadata": {
        "colab": {
          "base_uri": "https://localhost:8080/"
        },
        "id": "CFGBX16-p0SZ",
        "outputId": "3b196156-2772-41e5-e478-b37e6c5cd99f"
      },
      "outputs": [
        {
          "name": "stdout",
          "output_type": "stream",
          "text": [
            "<class 'scapy.plist.PacketList'>\n",
            "100\n",
            "<Sniffed: TCP:94 UDP:6 ICMP:0 Other:0>\n"
          ]
        },
        {
          "data": {
            "text/plain": [
              "<Ether  dst=ff:ff:ff:ff:ff:ff src=00:09:0f:09:00:22 type=IPv4 |<IP  version=4 ihl=5 tos=0x10 len=406 id=0 flags= frag=0 ttl=16 proto=udp chksum=0x689e src=192.168.128.1 dst=255.255.255.255 |<UDP  sport=bootps dport=bootpc len=386 chksum=0xf9fd |<BOOTP  op=BOOTREPLY htype=1 hlen=6 hops=0 xid=2984760539 secs=0 flags=B ciaddr=0.0.0.0 yiaddr=192.168.136.214 siaddr=0.0.0.0 giaddr=0.0.0.0 chaddr=b'P/\\x9b\\x014k\\x00\\x00\\x00\\x00\\x00\\x00\\x00\\x00\\x00\\x00' sname=b'\\x00\\x00\\x00\\x00\\x00\\x00\\x00\\x00\\x00\\x00\\x00\\x00\\x00\\x00\\x00\\x00\\x00\\x00\\x00\\x00\\x00\\x00\\x00\\x00\\x00\\x00\\x00\\x00\\x00\\x00\\x00\\x00\\x00\\x00\\x00\\x00\\x00\\x00\\x00\\x00\\x00\\x00\\x00\\x00\\x00\\x00\\x00\\x00\\x00\\x00\\x00\\x00\\x00\\x00\\x00\\x00\\x00\\x00\\x00\\x00\\x00\\x00\\x00\\x00' file=b'\\x00\\x00\\x00\\x00\\x00\\x00\\x00\\x00\\x00\\x00\\x00\\x00\\x00\\x00\\x00\\x00\\x00\\x00\\x00\\x00\\x00\\x00\\x00\\x00\\x00\\x00\\x00\\x00\\x00\\x00\\x00\\x00\\x00\\x00\\x00\\x00\\x00\\x00\\x00\\x00\\x00\\x00\\x00\\x00\\x00\\x00\\x00\\x00\\x00\\x00\\x00\\x00\\x00\\x00\\x00\\x00\\x00\\x00\\x00\\x00\\x00\\x00\\x00\\x00\\x00\\x00\\x00\\x00\\x00\\x00\\x00\\x00\\x00\\x00\\x00\\x00\\x00\\x00\\x00\\x00\\x00\\x00\\x00\\x00\\x00\\x00\\x00\\x00\\x00\\x00\\x00\\x00\\x00\\x00\\x00\\x00\\x00\\x00\\x00\\x00\\x00\\x00\\x00\\x00\\x00\\x00\\x00\\x00\\x00\\x00\\x00\\x00\\x00\\x00\\x00\\x00\\x00\\x00\\x00\\x00\\x00\\x00\\x00\\x00\\x00\\x00\\x00\\x00' options='c\\\\x82Sc' |<DHCP  options=[message-type=ack server_id=192.168.128.1 lease_time=172800 subnet_mask=255.255.192.0 router=192.168.128.1 name_server=192.168.8.200,190.106.193.241 renewal_time=86400 rebinding_time=151200 time_zone=4294945696 NTP_server=208.91.112.61,208.91.112.63,208.91.112.60,208.91.112.62 client_FQDN=b'\\x00\\xff\\xffMOVIL-D0FN8C3.uvg.edu.gt' 224=b'FGT2KE3916900079FGT2KE3916900148\\x00' end] |>>>>>"
            ]
          },
          "execution_count": 23,
          "metadata": {},
          "output_type": "execute_result"
        }
      ],
      "source": [
        "num_of_packets_to_sniff = 100\n",
        "pcap = sniff(count=num_of_packets_to_sniff)\n",
        "\n",
        "# rdpcap returns packet list\n",
        "## packetlist object can be enumerated \n",
        "print(type(pcap))\n",
        "print(len(pcap))\n",
        "print(pcap)\n",
        "pcap[0]\n"
      ]
    },
    {
      "cell_type": "code",
      "execution_count": 25,
      "metadata": {},
      "outputs": [
        {
          "name": "stdout",
          "output_type": "stream",
          "text": [
            "<class 'scapy.plist.PacketList'>\n",
            "62\n",
            "<analisis_paquetes.pcap: TCP:0 UDP:62 ICMP:0 Other:0>\n"
          ]
        },
        {
          "data": {
            "text/plain": [
              "<Ether  dst=80:37:73:96:9b:db src=88:e9:fe:6a:92:52 type=IPv4 |<IP  version=4 ihl=5 tos=0x0 len=961 id=1 flags= frag=0 ttl=64 proto=udp chksum=0x52e6 src=10.1.10.53 dst=84.54.22.33 |<UDP  sport=domain dport=domain len=941 chksum=0xf60e |<DNS  id=12 qr=0 opcode=QUERY aa=0 tc=0 rd=1 ra=0 z=0 ad=0 cd=0 rcode=ok qdcount=1 ancount=0 nscount=0 arcount=0 qd=<DNSQR  qname='google.com.' qtype=AAAA qclass=IN |> an=None ns=None ar=None |<Raw  load='�PNG\\r\\n\\x1a\\n\\x00\\x00\\x00\\rIHDR\\x00\\x00\\x01b\\x00\\x00\\x00�\\x08\\x06\\x00\\x00\\x00(�TR\\x00\\x00:�IDATx��\\t|T�����;K\\x12\\x08;\\x08�\\nE��$\\x19��Ziߪ-�;N2��V�V�a�Z\\x11!��\\x01ܻik[�.ok�e�\\x01\\\\��]�-���d�\\x08�\\x08��g���<��L\\x12�$3wf��\\x02<_\\r�Y�r��y���\\x1c\\r\\x18�8c�ew\\r\\x1e����\\x13�iaK����u}Ųw�d��\\x15�\"`\\x06:\\x13�\\x0b�\\x0c\\x16�\\x12�&�9Ɛ�\\x00���\\x08\\x111ҌQHP*�@\\x04O4���7<y�\\x0e.9���a2@a��&\"�\\x13\\x11�c�kO�s@�9�i�4X�x�K�a!f��0w��3dx\\x1d\"���C(�}�0|q�*��\\x0b�a!f�4��.�sKg\\x10\\x11]=9NԂ\\x06��u���K_�e\\x06*���\\x19Px��%��\\x03�3��\\x1e\"E?\\x0f���+H�]Q�k����8�\"�\\x1d\\x114v�2\\x10���咯̸|�x.\\\\�-b�I�B���@�L��CJ]XWQ����uQ�kQ\\x13\\x7f�N�1\\x00���2\\x17�03\\x10�\\\\\\x04�@!�H�BJqG\\'+�R�U\\\\[����GXC;��Ԏ�q�!\\x04�r�s=�\\x02rԴ\\x0b���_S�%�ph�a\\x12Y\\x05\\x02����c���P�9�' |>>>>>"
            ]
          },
          "execution_count": 25,
          "metadata": {},
          "output_type": "execute_result"
        }
      ],
      "source": [
        "analisis_paquetes = rdpcap(\"datasets/analisis_paquetes.pcap\")\n",
        "\n",
        "# rdpcap returns packet list\n",
        "## packetlist object can be enumerated \n",
        "print(type(analisis_paquetes))\n",
        "print(len(analisis_paquetes))\n",
        "print(analisis_paquetes)\n",
        "analisis_paquetes[0]\n"
      ]
    },
    {
      "cell_type": "code",
      "execution_count": 26,
      "metadata": {},
      "outputs": [
        {
          "name": "stdout",
          "output_type": "stream",
          "text": [
            "<class 'scapy.plist.PacketList'>\n",
            "162\n",
            "<Sniffed: TCP:94 UDP:68 ICMP:0 Other:0>\n"
          ]
        },
        {
          "data": {
            "text/plain": [
              "<Ether  dst=ff:ff:ff:ff:ff:ff src=00:09:0f:09:00:22 type=IPv4 |<IP  version=4 ihl=5 tos=0x10 len=406 id=0 flags= frag=0 ttl=16 proto=udp chksum=0x689e src=192.168.128.1 dst=255.255.255.255 |<UDP  sport=bootps dport=bootpc len=386 chksum=0xf9fd |<BOOTP  op=BOOTREPLY htype=1 hlen=6 hops=0 xid=2984760539 secs=0 flags=B ciaddr=0.0.0.0 yiaddr=192.168.136.214 siaddr=0.0.0.0 giaddr=0.0.0.0 chaddr=b'P/\\x9b\\x014k\\x00\\x00\\x00\\x00\\x00\\x00\\x00\\x00\\x00\\x00' sname=b'\\x00\\x00\\x00\\x00\\x00\\x00\\x00\\x00\\x00\\x00\\x00\\x00\\x00\\x00\\x00\\x00\\x00\\x00\\x00\\x00\\x00\\x00\\x00\\x00\\x00\\x00\\x00\\x00\\x00\\x00\\x00\\x00\\x00\\x00\\x00\\x00\\x00\\x00\\x00\\x00\\x00\\x00\\x00\\x00\\x00\\x00\\x00\\x00\\x00\\x00\\x00\\x00\\x00\\x00\\x00\\x00\\x00\\x00\\x00\\x00\\x00\\x00\\x00\\x00' file=b'\\x00\\x00\\x00\\x00\\x00\\x00\\x00\\x00\\x00\\x00\\x00\\x00\\x00\\x00\\x00\\x00\\x00\\x00\\x00\\x00\\x00\\x00\\x00\\x00\\x00\\x00\\x00\\x00\\x00\\x00\\x00\\x00\\x00\\x00\\x00\\x00\\x00\\x00\\x00\\x00\\x00\\x00\\x00\\x00\\x00\\x00\\x00\\x00\\x00\\x00\\x00\\x00\\x00\\x00\\x00\\x00\\x00\\x00\\x00\\x00\\x00\\x00\\x00\\x00\\x00\\x00\\x00\\x00\\x00\\x00\\x00\\x00\\x00\\x00\\x00\\x00\\x00\\x00\\x00\\x00\\x00\\x00\\x00\\x00\\x00\\x00\\x00\\x00\\x00\\x00\\x00\\x00\\x00\\x00\\x00\\x00\\x00\\x00\\x00\\x00\\x00\\x00\\x00\\x00\\x00\\x00\\x00\\x00\\x00\\x00\\x00\\x00\\x00\\x00\\x00\\x00\\x00\\x00\\x00\\x00\\x00\\x00\\x00\\x00\\x00\\x00\\x00\\x00' options='c\\\\x82Sc' |<DHCP  options=[message-type=ack server_id=192.168.128.1 lease_time=172800 subnet_mask=255.255.192.0 router=192.168.128.1 name_server=192.168.8.200,190.106.193.241 renewal_time=86400 rebinding_time=151200 time_zone=4294945696 NTP_server=208.91.112.61,208.91.112.63,208.91.112.60,208.91.112.62 client_FQDN=b'\\x00\\xff\\xffMOVIL-D0FN8C3.uvg.edu.gt' 224=b'FGT2KE3916900079FGT2KE3916900148\\x00' end] |>>>>>"
            ]
          },
          "execution_count": 26,
          "metadata": {},
          "output_type": "execute_result"
        }
      ],
      "source": [
        "# add .pcap to sniffed packets\n",
        "for pkt in analisis_paquetes:\n",
        "    pcap.append(pkt)\n",
        "\n",
        "print(type(pcap))\n",
        "print(len(pcap))\n",
        "print(pcap)\n",
        "pcap[0]"
      ]
    },
    {
      "cell_type": "markdown",
      "metadata": {
        "id": "S8KkL6uTqwD2"
      },
      "source": [
        "TCP"
      ]
    },
    {
      "cell_type": "code",
      "execution_count": 7,
      "metadata": {
        "colab": {
          "base_uri": "https://localhost:8080/"
        },
        "id": "VEWhUmrsqUFC",
        "outputId": "c965a5c9-51b8-476f-fec8-c4de001f74c1"
      },
      "outputs": [
        {
          "name": "stdout",
          "output_type": "stream",
          "text": [
            "\n"
          ]
        }
      ],
      "source": [
        "\"\"\"\n",
        "0                   1                   2                   3\n",
        "0 1 2 3 4 5 6 7 8 9 0 1 2 3 4 5 6 7 8 9 0 1 2 3 4 5 6 7 8 9 0 1\n",
        "+-+-+-+-+-+-+-+-+-+-+-+-+-+-+-+-+-+-+-+-+-+-+-+-+-+-+-+-+-+-+-+-+\n",
        "|          Source Port          |       Destination Port        |\n",
        "+-+-+-+-+-+-+-+-+-+-+-+-+-+-+-+-+-+-+-+-+-+-+-+-+-+-+-+-+-+-+-+-+\n",
        "|                        Sequence Number                        |\n",
        "+-+-+-+-+-+-+-+-+-+-+-+-+-+-+-+-+-+-+-+-+-+-+-+-+-+-+-+-+-+-+-+-+\n",
        "|                    Acknowledgment Number                      |\n",
        "+-+-+-+-+-+-+-+-+-+-+-+-+-+-+-+-+-+-+-+-+-+-+-+-+-+-+-+-+-+-+-+-+\n",
        "|  Data |           |U|A|P|R|S|F|                               |\n",
        "| Offset| Reserved  |R|C|S|S|Y|I|            Window             |\n",
        "|       |           |G|K|H|T|N|N|                               |\n",
        "+-+-+-+-+-+-+-+-+-+-+-+-+-+-+-+-+-+-+-+-+-+-+-+-+-+-+-+-+-+-+-+-+\n",
        "|           Checksum            |         Urgent Pointer        |\n",
        "+-+-+-+-+-+-+-+-+-+-+-+-+-+-+-+-+-+-+-+-+-+-+-+-+-+-+-+-+-+-+-+-+\n",
        "|                    Options                    |    Padding    |\n",
        "+-+-+-+-+-+-+-+-+-+-+-+-+-+-+-+-+-+-+-+-+-+-+-+-+-+-+-+-+-+-+-+-+\n",
        "|                             data                              |\n",
        "+-+-+-+-+-+-+-+-+-+-+-+-+-+-+-+-+-+-+-+-+-+-+-+-+-+-+-+-+-+-+-+-+\n",
        "02 04 05 a0 01 03 03 05 01 01 08 0a 1d 74 65 c5 00 00 00 00 04 02 00 00\n",
        "\"\"\"\n",
        "\n",
        "print()"
      ]
    },
    {
      "cell_type": "markdown",
      "metadata": {
        "id": "tcOQYhxiqy7L"
      },
      "source": [
        "Exploración"
      ]
    },
    {
      "cell_type": "code",
      "execution_count": 6,
      "metadata": {
        "colab": {
          "base_uri": "https://localhost:8080/"
        },
        "id": "6V_p1aruq4d4",
        "outputId": "f03f1417-7015-469d-b69c-783411437201"
      },
      "outputs": [
        {
          "name": "stdout",
          "output_type": "stream",
          "text": [
            "Informacion del frame:\n",
            "Ether / IP / TCP 172.28.0.2:8080 > 172.28.0.1:52420 FA\n",
            "Informacion del paquete:\n",
            "IP / TCP 172.28.0.2:8080 > 172.28.0.1:52420 FA\n",
            "Informacion del segmento:\n",
            "TCP 172.28.0.2:8080 > 172.28.0.1:52420 FA\n",
            "Data:\n",
            "\n",
            "###[ Ethernet ]### \n",
            "  dst       = 02:42:04:54:f1:51\n",
            "  src       = 02:42:ac:1c:00:02\n",
            "  type      = IPv4\n",
            "###[ IP ]### \n",
            "     version   = 4\n",
            "     ihl       = 5\n",
            "     tos       = 0x0\n",
            "     len       = 52\n",
            "     id        = 9466\n",
            "     flags     = DF\n",
            "     frag      = 0\n",
            "     ttl       = 64\n",
            "     proto     = 6\n",
            "     chksum    = 0xbd8e\n",
            "     src       = 172.28.0.2\n",
            "     dst       = 172.28.0.1\n",
            "     \\options   \\\n",
            "###[ TCP ]### \n",
            "        sport     = 8080\n",
            "        dport     = 52420\n",
            "        seq       = 293036563\n",
            "        ack       = 2738177287\n",
            "        dataofs   = 8\n",
            "        reserved  = 0\n",
            "        flags     = FA\n",
            "        window    = 501\n",
            "        chksum    = 0x5862\n",
            "        urgptr    = 0\n",
            "        options   = [('NOP', None), ('NOP', None), ('Timestamp', (2326413667, 1059821441))]\n",
            "\n"
          ]
        }
      ],
      "source": [
        "#Recordemos que en los modelos de red, las capas inferiores encapsulan la información de las capas superiores\n",
        "#Frames en paquetes, paquetes en segmentos (Ethernet, IP), modelo TCP/IP\n",
        "\n",
        "ethernet_frame = pcap[0]\n",
        "ip_packet = ethernet_frame.payload\n",
        "segment = ip_packet.payload\n",
        "data = segment.payload #recupera la informacion de la capa 4\n",
        "\n",
        "print(\"Informacion del frame:\")\n",
        "print(ethernet_frame.summary())\n",
        "\n",
        "print(\"Informacion del paquete:\")\n",
        "print(ip_packet.summary())\n",
        "\n",
        "print(\"Informacion del segmento:\")\n",
        "print(segment.summary())\n",
        "\n",
        "print(\"Data:\")\n",
        "print(data.summary())\n",
        "\n",
        "ethernet_frame.show()\n",
        "data.show()"
      ]
    },
    {
      "cell_type": "markdown",
      "metadata": {
        "id": "B7VfYOxJsq1Y"
      },
      "source": [
        "Tipos de datos en Scapy"
      ]
    },
    {
      "cell_type": "code",
      "execution_count": 7,
      "metadata": {
        "colab": {
          "base_uri": "https://localhost:8080/"
        },
        "id": "ll1ixX5KspSd",
        "outputId": "9d46481b-4b37-4c66-b69a-7e28921017f0"
      },
      "outputs": [
        {
          "name": "stdout",
          "output_type": "stream",
          "text": [
            "<class 'scapy.layers.l2.Ether'>\n",
            "<class 'scapy.layers.inet.IP'>\n",
            "<class 'scapy.layers.inet.TCP'>\n",
            "Ethernet <Ether from Sniffed: TCP:10 UDP:0 ICMP:0 Other:0>\n",
            "IP <IP from Sniffed: TCP:10 UDP:0 ICMP:0 Other:0>\n",
            "TCP <TCP from Sniffed: TCP:10 UDP:0 ICMP:0 Other:0>\n",
            "UDP <UDP from Sniffed: TCP:0 UDP:0 ICMP:0 Other:0>\n"
          ]
        }
      ],
      "source": [
        "print(type(ethernet_frame))\n",
        "print(type(ip_packet))\n",
        "print(type(segment))\n",
        "\n",
        "# Packets can be filtered on layers ie) ethernet_frame[scapy.layers.l2.Ether]\n",
        "ethernet_type = type(ethernet_frame)\n",
        "ip_type = type(ip_packet)\n",
        "tcp_type = type(segment)\n",
        "print(\"Ethernet\",pcap[ethernet_type])\n",
        "print(\"IP\", pcap[ip_type])\n",
        "print(\"TCP\", pcap[tcp_type])\n",
        "\n",
        "# Scapy provides this via import statements\n",
        "from scapy.layers.l2 import Ether\n",
        "from scapy.layers.inet import IP\n",
        "from scapy.layers.inet import TCP, UDP\n",
        "\n",
        "print(\"UDP\", pcap[UDP])"
      ]
    },
    {
      "cell_type": "markdown",
      "metadata": {
        "id": "ioVnNkvRthYL"
      },
      "source": [
        "Conversion de PCAP a DF"
      ]
    },
    {
      "cell_type": "code",
      "execution_count": 8,
      "metadata": {
        "colab": {
          "base_uri": "https://localhost:8080/"
        },
        "id": "H50zKfyhtkck",
        "outputId": "135dd4af-36b9-4e0a-df68-6e0f8a2dc9c9"
      },
      "outputs": [
        {
          "name": "stdout",
          "output_type": "stream",
          "text": [
            "  version ihl tos  len     id flags frag ttl proto chksum  ... dataofs  \\\n",
            "0       4   5   0   52   9466    DF    0  64     6  48526  ...       8   \n",
            "1       4   5   0   52  38954    DF    0  64     6  19038  ...       8   \n",
            "2       4   5   0  878  29373    DF    0  64     6  27791  ...       8   \n",
            "3       4   5   0   52  56910    DF    0  64     6   1080  ...       8   \n",
            "4       4   5   0  878  52462    DF    0  64     6   4702  ...       8   \n",
            "\n",
            "  reserved flags  window chksum urgptr options payload  \\\n",
            "0        0    FA     501  22626      0       3       0   \n",
            "1        0     A     501  22626      0       3       0   \n",
            "2        0    PA     507  23454      0       3     826   \n",
            "3        0     A     501  22628      0       3       0   \n",
            "4        0    PA     507  23454      0       3     826   \n",
            "\n",
            "                                         payload_raw  \\\n",
            "0                                                b''   \n",
            "1                                                b''   \n",
            "2  b'\\x81~\\x036{\"header\": {\"msg_id\": \"35734d4a-3c...   \n",
            "3                                                b''   \n",
            "4  b'\\x81~\\x036{\"header\": {\"msg_id\": \"35734d4a-3c...   \n",
            "\n",
            "                                         payload_hex  \n",
            "0                                                b''  \n",
            "1                                                b''  \n",
            "2  b'817e03367b22686561646572223a207b226d73675f69...  \n",
            "3                                                b''  \n",
            "4  b'817e03367b22686561646572223a207b226d73675f69...  \n",
            "\n",
            "[5 rows x 28 columns]\n"
          ]
        }
      ],
      "source": [
        "# Obtenemos los campos de IP/TCP/UDP que seran las columnas de nuestro DF\n",
        "ip_fields = [field.name for field in IP().fields_desc]\n",
        "tcp_fields = [field.name for field in TCP().fields_desc]\n",
        "udp_fields = [field.name for field in UDP().fields_desc]\n",
        "\n",
        "#Concatenamos todos los campos\n",
        "dataframe_fields = ip_fields + ['time'] + tcp_fields + ['payload','payload_raw','payload_hex']\n",
        "\n",
        "# Creamos un DF en blanco con los campos como columnas\n",
        "df = pd.DataFrame(columns=dataframe_fields)\n",
        "for packet in pcap[IP]:\n",
        "    # Obtenemos los valores de los campos de cada fila\n",
        "    field_values = []\n",
        "    # A;adimos todos los valores de los campos de IP al df\n",
        "    for field in ip_fields:\n",
        "        if field == 'options':\n",
        "            # Obtenemos el numero de opciones del IP Header\n",
        "            field_values.append(len(packet[IP].fields[field]))\n",
        "        else:\n",
        "            field_values.append(packet[IP].fields[field])\n",
        "    \n",
        "    field_values.append(packet.time)\n",
        "    \n",
        "    layer_type = type(packet[IP].payload)\n",
        "    for field in tcp_fields:\n",
        "        try:\n",
        "            if field == 'options':\n",
        "                field_values.append(len(packet[layer_type].fields[field]))\n",
        "            else:\n",
        "                field_values.append(packet[layer_type].fields[field])\n",
        "        except:\n",
        "            field_values.append(None)\n",
        "    \n",
        "    # Agregamos el payload\n",
        "    field_values.append(len(packet[layer_type].payload))\n",
        "    field_values.append(packet[layer_type].payload.original)\n",
        "    field_values.append(binascii.hexlify(packet[layer_type].payload.original))\n",
        "    # Agregamos la fila al df\n",
        "    df_append = pd.DataFrame([field_values], columns=dataframe_fields)\n",
        "    df = pd.concat([df, df_append], axis=0)\n",
        "\n",
        "# Reset Index\n",
        "df = df.reset_index()\n",
        "# Drop old index column\n",
        "df = df.drop(columns=\"index\")\n",
        "\n",
        "print(df.head(5))"
      ]
    },
    {
      "cell_type": "code",
      "execution_count": 9,
      "metadata": {
        "colab": {
          "base_uri": "https://localhost:8080/",
          "height": 363
        },
        "id": "LqqOTjHmzcpJ",
        "outputId": "f424cc4c-df1b-4820-a285-4ca749ed1e0e"
      },
      "outputs": [
        {
          "data": {
            "text/html": [
              "\n",
              "  <div id=\"df-d155db00-fc0a-4a4f-a981-5c39dccc4015\">\n",
              "    <div class=\"colab-df-container\">\n",
              "      <div>\n",
              "<style scoped>\n",
              "    .dataframe tbody tr th:only-of-type {\n",
              "        vertical-align: middle;\n",
              "    }\n",
              "\n",
              "    .dataframe tbody tr th {\n",
              "        vertical-align: top;\n",
              "    }\n",
              "\n",
              "    .dataframe thead th {\n",
              "        text-align: right;\n",
              "    }\n",
              "</style>\n",
              "<table border=\"1\" class=\"dataframe\">\n",
              "  <thead>\n",
              "    <tr style=\"text-align: right;\">\n",
              "      <th></th>\n",
              "      <th>src</th>\n",
              "      <th>dst</th>\n",
              "      <th>sport</th>\n",
              "      <th>dport</th>\n",
              "    </tr>\n",
              "  </thead>\n",
              "  <tbody>\n",
              "    <tr>\n",
              "      <th>0</th>\n",
              "      <td>172.28.0.2</td>\n",
              "      <td>172.28.0.1</td>\n",
              "      <td>8080</td>\n",
              "      <td>52420</td>\n",
              "    </tr>\n",
              "    <tr>\n",
              "      <th>1</th>\n",
              "      <td>172.28.0.1</td>\n",
              "      <td>172.28.0.2</td>\n",
              "      <td>52420</td>\n",
              "      <td>8080</td>\n",
              "    </tr>\n",
              "    <tr>\n",
              "      <th>2</th>\n",
              "      <td>172.28.0.2</td>\n",
              "      <td>172.28.0.3</td>\n",
              "      <td>9000</td>\n",
              "      <td>36854</td>\n",
              "    </tr>\n",
              "    <tr>\n",
              "      <th>3</th>\n",
              "      <td>172.28.0.3</td>\n",
              "      <td>172.28.0.2</td>\n",
              "      <td>36854</td>\n",
              "      <td>9000</td>\n",
              "    </tr>\n",
              "    <tr>\n",
              "      <th>4</th>\n",
              "      <td>172.28.0.3</td>\n",
              "      <td>172.28.0.2</td>\n",
              "      <td>6000</td>\n",
              "      <td>58480</td>\n",
              "    </tr>\n",
              "    <tr>\n",
              "      <th>5</th>\n",
              "      <td>172.28.0.2</td>\n",
              "      <td>172.28.0.3</td>\n",
              "      <td>58480</td>\n",
              "      <td>6000</td>\n",
              "    </tr>\n",
              "    <tr>\n",
              "      <th>6</th>\n",
              "      <td>172.28.0.1</td>\n",
              "      <td>172.28.0.2</td>\n",
              "      <td>52488</td>\n",
              "      <td>8080</td>\n",
              "    </tr>\n",
              "    <tr>\n",
              "      <th>7</th>\n",
              "      <td>172.28.0.2</td>\n",
              "      <td>172.28.0.1</td>\n",
              "      <td>8080</td>\n",
              "      <td>52488</td>\n",
              "    </tr>\n",
              "    <tr>\n",
              "      <th>8</th>\n",
              "      <td>172.28.0.2</td>\n",
              "      <td>172.28.0.1</td>\n",
              "      <td>8080</td>\n",
              "      <td>52488</td>\n",
              "    </tr>\n",
              "    <tr>\n",
              "      <th>9</th>\n",
              "      <td>172.28.0.1</td>\n",
              "      <td>172.28.0.2</td>\n",
              "      <td>52488</td>\n",
              "      <td>8080</td>\n",
              "    </tr>\n",
              "  </tbody>\n",
              "</table>\n",
              "</div>\n",
              "      <button class=\"colab-df-convert\" onclick=\"convertToInteractive('df-d155db00-fc0a-4a4f-a981-5c39dccc4015')\"\n",
              "              title=\"Convert this dataframe to an interactive table.\"\n",
              "              style=\"display:none;\">\n",
              "        \n",
              "  <svg xmlns=\"http://www.w3.org/2000/svg\" height=\"24px\"viewBox=\"0 0 24 24\"\n",
              "       width=\"24px\">\n",
              "    <path d=\"M0 0h24v24H0V0z\" fill=\"none\"/>\n",
              "    <path d=\"M18.56 5.44l.94 2.06.94-2.06 2.06-.94-2.06-.94-.94-2.06-.94 2.06-2.06.94zm-11 1L8.5 8.5l.94-2.06 2.06-.94-2.06-.94L8.5 2.5l-.94 2.06-2.06.94zm10 10l.94 2.06.94-2.06 2.06-.94-2.06-.94-.94-2.06-.94 2.06-2.06.94z\"/><path d=\"M17.41 7.96l-1.37-1.37c-.4-.4-.92-.59-1.43-.59-.52 0-1.04.2-1.43.59L10.3 9.45l-7.72 7.72c-.78.78-.78 2.05 0 2.83L4 21.41c.39.39.9.59 1.41.59.51 0 1.02-.2 1.41-.59l7.78-7.78 2.81-2.81c.8-.78.8-2.07 0-2.86zM5.41 20L4 18.59l7.72-7.72 1.47 1.35L5.41 20z\"/>\n",
              "  </svg>\n",
              "      </button>\n",
              "      \n",
              "  <style>\n",
              "    .colab-df-container {\n",
              "      display:flex;\n",
              "      flex-wrap:wrap;\n",
              "      gap: 12px;\n",
              "    }\n",
              "\n",
              "    .colab-df-convert {\n",
              "      background-color: #E8F0FE;\n",
              "      border: none;\n",
              "      border-radius: 50%;\n",
              "      cursor: pointer;\n",
              "      display: none;\n",
              "      fill: #1967D2;\n",
              "      height: 32px;\n",
              "      padding: 0 0 0 0;\n",
              "      width: 32px;\n",
              "    }\n",
              "\n",
              "    .colab-df-convert:hover {\n",
              "      background-color: #E2EBFA;\n",
              "      box-shadow: 0px 1px 2px rgba(60, 64, 67, 0.3), 0px 1px 3px 1px rgba(60, 64, 67, 0.15);\n",
              "      fill: #174EA6;\n",
              "    }\n",
              "\n",
              "    [theme=dark] .colab-df-convert {\n",
              "      background-color: #3B4455;\n",
              "      fill: #D2E3FC;\n",
              "    }\n",
              "\n",
              "    [theme=dark] .colab-df-convert:hover {\n",
              "      background-color: #434B5C;\n",
              "      box-shadow: 0px 1px 3px 1px rgba(0, 0, 0, 0.15);\n",
              "      filter: drop-shadow(0px 1px 2px rgba(0, 0, 0, 0.3));\n",
              "      fill: #FFFFFF;\n",
              "    }\n",
              "  </style>\n",
              "\n",
              "      <script>\n",
              "        const buttonEl =\n",
              "          document.querySelector('#df-d155db00-fc0a-4a4f-a981-5c39dccc4015 button.colab-df-convert');\n",
              "        buttonEl.style.display =\n",
              "          google.colab.kernel.accessAllowed ? 'block' : 'none';\n",
              "\n",
              "        async function convertToInteractive(key) {\n",
              "          const element = document.querySelector('#df-d155db00-fc0a-4a4f-a981-5c39dccc4015');\n",
              "          const dataTable =\n",
              "            await google.colab.kernel.invokeFunction('convertToInteractive',\n",
              "                                                     [key], {});\n",
              "          if (!dataTable) return;\n",
              "\n",
              "          const docLinkHtml = 'Like what you see? Visit the ' +\n",
              "            '<a target=\"_blank\" href=https://colab.research.google.com/notebooks/data_table.ipynb>data table notebook</a>'\n",
              "            + ' to learn more about interactive tables.';\n",
              "          element.innerHTML = '';\n",
              "          dataTable['output_type'] = 'display_data';\n",
              "          await google.colab.output.renderOutput(dataTable, element);\n",
              "          const docLink = document.createElement('div');\n",
              "          docLink.innerHTML = docLinkHtml;\n",
              "          element.appendChild(docLink);\n",
              "        }\n",
              "      </script>\n",
              "    </div>\n",
              "  </div>\n",
              "  "
            ],
            "text/plain": [
              "          src         dst  sport  dport\n",
              "0  172.28.0.2  172.28.0.1   8080  52420\n",
              "1  172.28.0.1  172.28.0.2  52420   8080\n",
              "2  172.28.0.2  172.28.0.3   9000  36854\n",
              "3  172.28.0.3  172.28.0.2  36854   9000\n",
              "4  172.28.0.3  172.28.0.2   6000  58480\n",
              "5  172.28.0.2  172.28.0.3  58480   6000\n",
              "6  172.28.0.1  172.28.0.2  52488   8080\n",
              "7  172.28.0.2  172.28.0.1   8080  52488\n",
              "8  172.28.0.2  172.28.0.1   8080  52488\n",
              "9  172.28.0.1  172.28.0.2  52488   8080"
            ]
          },
          "execution_count": 9,
          "metadata": {},
          "output_type": "execute_result"
        }
      ],
      "source": [
        "# Return Src Address, Dst Address, Src Port, Dst Port\n",
        "df[['src','dst','sport','dport']]"
      ]
    },
    {
      "cell_type": "code",
      "execution_count": 10,
      "metadata": {
        "colab": {
          "base_uri": "https://localhost:8080/"
        },
        "id": "rG6Pfp_VzfUe",
        "outputId": "709af016-65bc-496b-8fa1-334a46830c12"
      },
      "outputs": [
        {
          "name": "stdout",
          "output_type": "stream",
          "text": [
            "# Top Source Address\n",
            "count             10\n",
            "unique             3\n",
            "top       172.28.0.2\n",
            "freq               5\n",
            "Name: src, dtype: object \n",
            "\n",
            "\n"
          ]
        }
      ],
      "source": [
        "#Calcular estadisticas\n",
        "print(\"# Top Source Address\")\n",
        "print(df['src'].describe(),'\\n\\n')"
      ]
    },
    {
      "cell_type": "code",
      "execution_count": 12,
      "metadata": {
        "colab": {
          "base_uri": "https://localhost:8080/"
        },
        "id": "e1kc8Mzf_uZl",
        "outputId": "9b0400e0-be07-4951-dcae-23531167651e"
      },
      "outputs": [
        {
          "name": "stdout",
          "output_type": "stream",
          "text": [
            "['172.28.0.1' '172.28.0.3'] \n",
            "\n",
            "\n"
          ]
        }
      ],
      "source": [
        "#¿Quien es la IP de origen mas frecuente?\n",
        "frequent_address = df['src'].describe()['top']\n",
        "\n",
        "\n",
        "# A que IPs les habla la IP mas frecuente\n",
        "print(df[df['src'] == frequent_address]['dst'].unique(),\"\\n\\n\")"
      ]
    }
  ],
  "metadata": {
    "colab": {
      "name": "Análisis de paquetes.ipynb",
      "provenance": []
    },
    "kernelspec": {
      "display_name": "Python 3",
      "name": "python3"
    },
    "language_info": {
      "codemirror_mode": {
        "name": "ipython",
        "version": 3
      },
      "file_extension": ".py",
      "mimetype": "text/x-python",
      "name": "python",
      "nbconvert_exporter": "python",
      "pygments_lexer": "ipython3",
      "version": "3.7.13"
    }
  },
  "nbformat": 4,
  "nbformat_minor": 0
}
